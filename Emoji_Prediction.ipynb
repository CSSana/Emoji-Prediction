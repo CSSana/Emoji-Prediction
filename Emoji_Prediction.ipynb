{
  "nbformat": 4,
  "nbformat_minor": 0,
  "metadata": {
    "colab": {
      "name": "Emoji_Prediction.ipynb",
      "provenance": [],
      "collapsed_sections": []
    },
    "kernelspec": {
      "name": "python3",
      "display_name": "Python 3"
    },
    "language_info": {
      "name": "python"
    }
  },
  "cells": [
    {
      "cell_type": "code",
      "execution_count": 1,
      "metadata": {
        "colab": {
          "base_uri": "https://localhost:8080/"
        },
        "id": "Tb88uWDL5xWk",
        "outputId": "0e1eb467-65c4-4bea-cb37-357dacf93961"
      },
      "outputs": [
        {
          "output_type": "stream",
          "name": "stdout",
          "text": [
            "Collecting emoji\n",
            "  Downloading emoji-1.6.1.tar.gz (170 kB)\n",
            "\u001b[?25l\r\u001b[K     |██                              | 10 kB 24.0 MB/s eta 0:00:01\r\u001b[K     |███▉                            | 20 kB 31.4 MB/s eta 0:00:01\r\u001b[K     |█████▉                          | 30 kB 37.6 MB/s eta 0:00:01\r\u001b[K     |███████▊                        | 40 kB 23.8 MB/s eta 0:00:01\r\u001b[K     |█████████▋                      | 51 kB 16.4 MB/s eta 0:00:01\r\u001b[K     |███████████▋                    | 61 kB 17.7 MB/s eta 0:00:01\r\u001b[K     |█████████████▌                  | 71 kB 11.9 MB/s eta 0:00:01\r\u001b[K     |███████████████▍                | 81 kB 12.7 MB/s eta 0:00:01\r\u001b[K     |█████████████████▍              | 92 kB 13.9 MB/s eta 0:00:01\r\u001b[K     |███████████████████▎            | 102 kB 13.7 MB/s eta 0:00:01\r\u001b[K     |█████████████████████▏          | 112 kB 13.7 MB/s eta 0:00:01\r\u001b[K     |███████████████████████▏        | 122 kB 13.7 MB/s eta 0:00:01\r\u001b[K     |█████████████████████████       | 133 kB 13.7 MB/s eta 0:00:01\r\u001b[K     |███████████████████████████     | 143 kB 13.7 MB/s eta 0:00:01\r\u001b[K     |█████████████████████████████   | 153 kB 13.7 MB/s eta 0:00:01\r\u001b[K     |██████████████████████████████▉ | 163 kB 13.7 MB/s eta 0:00:01\r\u001b[K     |████████████████████████████████| 170 kB 13.7 MB/s \n",
            "\u001b[?25hBuilding wheels for collected packages: emoji\n",
            "  Building wheel for emoji (setup.py) ... \u001b[?25l\u001b[?25hdone\n",
            "  Created wheel for emoji: filename=emoji-1.6.1-py3-none-any.whl size=169314 sha256=d6253fa8ed07d36d7ddd1dc230d283c0ecacbb00e0fd79ddf65f1e7272d2c67f\n",
            "  Stored in directory: /root/.cache/pip/wheels/ea/5f/d3/03d313ddb3c2a1a427bb4690f1621eea60fe6f2a30cc95940f\n",
            "Successfully built emoji\n",
            "Installing collected packages: emoji\n",
            "Successfully installed emoji-1.6.1\n"
          ]
        }
      ],
      "source": [
        "!pip install emoji"
      ]
    },
    {
      "cell_type": "code",
      "source": [
        "import emoji"
      ],
      "metadata": {
        "id": "l1Yii2C652qP"
      },
      "execution_count": 2,
      "outputs": []
    },
    {
      "cell_type": "code",
      "source": [
        "len(emoji.EMOJI_UNICODE['en'])"
      ],
      "metadata": {
        "colab": {
          "base_uri": "https://localhost:8080/"
        },
        "id": "sw-p12Ma599g",
        "outputId": "88b981b4-be5f-4b0a-8a1a-cf850f386ad5"
      },
      "execution_count": 3,
      "outputs": [
        {
          "output_type": "execute_result",
          "data": {
            "text/plain": [
              "3633"
            ]
          },
          "metadata": {},
          "execution_count": 3
        }
      ]
    },
    {
      "cell_type": "code",
      "source": [
        "emoji.EMOJI_UNICODE['en']"
      ],
      "metadata": {
        "colab": {
          "base_uri": "https://localhost:8080/"
        },
        "id": "TVUlUyy46AZI",
        "outputId": "848fab12-643c-40e5-c7a3-8e0e7801dba5"
      },
      "execution_count": 4,
      "outputs": [
        {
          "output_type": "execute_result",
          "data": {
            "text/plain": [
              "{':1st_place_medal:': '🥇',\n",
              " ':2nd_place_medal:': '🥈',\n",
              " ':3rd_place_medal:': '🥉',\n",
              " ':AB_button_(blood_type):': '🆎',\n",
              " ':ATM_sign:': '🏧',\n",
              " ':A_button_(blood_type):': '🅰️',\n",
              " ':Afghanistan:': '🇦🇫',\n",
              " ':Albania:': '🇦🇱',\n",
              " ':Algeria:': '🇩🇿',\n",
              " ':American_Samoa:': '🇦🇸',\n",
              " ':Andorra:': '🇦🇩',\n",
              " ':Angola:': '🇦🇴',\n",
              " ':Anguilla:': '🇦🇮',\n",
              " ':Antarctica:': '🇦🇶',\n",
              " ':Antigua_&_Barbuda:': '🇦🇬',\n",
              " ':Aquarius:': '♒',\n",
              " ':Argentina:': '🇦🇷',\n",
              " ':Aries:': '♈',\n",
              " ':Armenia:': '🇦🇲',\n",
              " ':Aruba:': '🇦🇼',\n",
              " ':Ascension_Island:': '🇦🇨',\n",
              " ':Australia:': '🇦🇺',\n",
              " ':Austria:': '🇦🇹',\n",
              " ':Azerbaijan:': '🇦🇿',\n",
              " ':BACK_arrow:': '🔙',\n",
              " ':B_button_(blood_type):': '🅱️',\n",
              " ':Bahamas:': '🇧🇸',\n",
              " ':Bahrain:': '🇧🇭',\n",
              " ':Bangladesh:': '🇧🇩',\n",
              " ':Barbados:': '🇧🇧',\n",
              " ':Belarus:': '🇧🇾',\n",
              " ':Belgium:': '🇧🇪',\n",
              " ':Belize:': '🇧🇿',\n",
              " ':Benin:': '🇧🇯',\n",
              " ':Bermuda:': '🇧🇲',\n",
              " ':Bhutan:': '🇧🇹',\n",
              " ':Bolivia:': '🇧🇴',\n",
              " ':Bosnia_&_Herzegovina:': '🇧🇦',\n",
              " ':Botswana:': '🇧🇼',\n",
              " ':Bouvet_Island:': '🇧🇻',\n",
              " ':Brazil:': '🇧🇷',\n",
              " ':British_Indian_Ocean_Territory:': '🇮🇴',\n",
              " ':British_Virgin_Islands:': '🇻🇬',\n",
              " ':Brunei:': '🇧🇳',\n",
              " ':Bulgaria:': '🇧🇬',\n",
              " ':Burkina_Faso:': '🇧🇫',\n",
              " ':Burundi:': '🇧🇮',\n",
              " ':CL_button:': '🆑',\n",
              " ':COOL_button:': '🆒',\n",
              " ':Cambodia:': '🇰🇭',\n",
              " ':Cameroon:': '🇨🇲',\n",
              " ':Canada:': '🇨🇦',\n",
              " ':Canary_Islands:': '🇮🇨',\n",
              " ':Cancer:': '♋',\n",
              " ':Cape_Verde:': '🇨🇻',\n",
              " ':Capricorn:': '♑',\n",
              " ':Caribbean_Netherlands:': '🇧🇶',\n",
              " ':Cayman_Islands:': '🇰🇾',\n",
              " ':Central_African_Republic:': '🇨🇫',\n",
              " ':Ceuta_&_Melilla:': '🇪🇦',\n",
              " ':Chad:': '🇹🇩',\n",
              " ':Chile:': '🇨🇱',\n",
              " ':China:': '🇨🇳',\n",
              " ':Christmas_Island:': '🇨🇽',\n",
              " ':Christmas_tree:': '🎄',\n",
              " ':Clipperton_Island:': '🇨🇵',\n",
              " ':Cocos_(Keeling)_Islands:': '🇨🇨',\n",
              " ':Colombia:': '🇨🇴',\n",
              " ':Comoros:': '🇰🇲',\n",
              " ':Congo_-_Brazzaville:': '🇨🇬',\n",
              " ':Congo_-_Kinshasa:': '🇨🇩',\n",
              " ':Cook_Islands:': '🇨🇰',\n",
              " ':Costa_Rica:': '🇨🇷',\n",
              " ':Croatia:': '🇭🇷',\n",
              " ':Cuba:': '🇨🇺',\n",
              " ':Curaçao:': '🇨🇼',\n",
              " ':Cyprus:': '🇨🇾',\n",
              " ':Czechia:': '🇨🇿',\n",
              " ':Côte_d’Ivoire:': '🇨🇮',\n",
              " ':Denmark:': '🇩🇰',\n",
              " ':Diego_Garcia:': '🇩🇬',\n",
              " ':Djibouti:': '🇩🇯',\n",
              " ':Dominica:': '🇩🇲',\n",
              " ':Dominican_Republic:': '🇩🇴',\n",
              " ':END_arrow:': '🔚',\n",
              " ':Ecuador:': '🇪🇨',\n",
              " ':Egypt:': '🇪🇬',\n",
              " ':El_Salvador:': '🇸🇻',\n",
              " ':England:': '🏴\\U000e0067\\U000e0062\\U000e0065\\U000e006e\\U000e0067\\U000e007f',\n",
              " ':Equatorial_Guinea:': '🇬🇶',\n",
              " ':Eritrea:': '🇪🇷',\n",
              " ':Estonia:': '🇪🇪',\n",
              " ':Eswatini:': '🇸🇿',\n",
              " ':Ethiopia:': '🇪🇹',\n",
              " ':European_Union:': '🇪🇺',\n",
              " ':FREE_button:': '🆓',\n",
              " ':Falkland_Islands:': '🇫🇰',\n",
              " ':Faroe_Islands:': '🇫🇴',\n",
              " ':Fiji:': '🇫🇯',\n",
              " ':Finland:': '🇫🇮',\n",
              " ':France:': '🇫🇷',\n",
              " ':French_Guiana:': '🇬🇫',\n",
              " ':French_Polynesia:': '🇵🇫',\n",
              " ':French_Southern_Territories:': '🇹🇫',\n",
              " ':Gabon:': '🇬🇦',\n",
              " ':Gambia:': '🇬🇲',\n",
              " ':Gemini:': '♊',\n",
              " ':Georgia:': '🇬🇪',\n",
              " ':Germany:': '🇩🇪',\n",
              " ':Ghana:': '🇬🇭',\n",
              " ':Gibraltar:': '🇬🇮',\n",
              " ':Greece:': '🇬🇷',\n",
              " ':Greenland:': '🇬🇱',\n",
              " ':Grenada:': '🇬🇩',\n",
              " ':Guadeloupe:': '🇬🇵',\n",
              " ':Guam:': '🇬🇺',\n",
              " ':Guatemala:': '🇬🇹',\n",
              " ':Guernsey:': '🇬🇬',\n",
              " ':Guinea:': '🇬🇳',\n",
              " ':Guinea-Bissau:': '🇬🇼',\n",
              " ':Guyana:': '🇬🇾',\n",
              " ':Haiti:': '🇭🇹',\n",
              " ':Heard_&_McDonald_Islands:': '🇭🇲',\n",
              " ':Honduras:': '🇭🇳',\n",
              " ':Hong_Kong_SAR_China:': '🇭🇰',\n",
              " ':Hungary:': '🇭🇺',\n",
              " ':ID_button:': '🆔',\n",
              " ':Iceland:': '🇮🇸',\n",
              " ':India:': '🇮🇳',\n",
              " ':Indonesia:': '🇮🇩',\n",
              " ':Iran:': '🇮🇷',\n",
              " ':Iraq:': '🇮🇶',\n",
              " ':Ireland:': '🇮🇪',\n",
              " ':Isle_of_Man:': '🇮🇲',\n",
              " ':Israel:': '🇮🇱',\n",
              " ':Italy:': '🇮🇹',\n",
              " ':Jamaica:': '🇯🇲',\n",
              " ':Japan:': '🇯🇵',\n",
              " ':Japanese_acceptable_button:': '🉑',\n",
              " ':Japanese_application_button:': '🈸',\n",
              " ':Japanese_bargain_button:': '🉐',\n",
              " ':Japanese_castle:': '🏯',\n",
              " ':Japanese_congratulations_button:': '㊗️',\n",
              " ':Japanese_discount_button:': '🈹',\n",
              " ':Japanese_dolls:': '🎎',\n",
              " ':Japanese_free_of_charge_button:': '🈚',\n",
              " ':Japanese_here_button:': '🈁',\n",
              " ':Japanese_monthly_amount_button:': '🈷️',\n",
              " ':Japanese_no_vacancy_button:': '🈵',\n",
              " ':Japanese_not_free_of_charge_button:': '🈶',\n",
              " ':Japanese_open_for_business_button:': '🈺',\n",
              " ':Japanese_passing_grade_button:': '🈴',\n",
              " ':Japanese_post_office:': '🏣',\n",
              " ':Japanese_prohibited_button:': '🈲',\n",
              " ':Japanese_reserved_button:': '🈯',\n",
              " ':Japanese_secret_button:': '㊙️',\n",
              " ':Japanese_service_charge_button:': '🈂️',\n",
              " ':Japanese_symbol_for_beginner:': '🔰',\n",
              " ':Japanese_vacancy_button:': '🈳',\n",
              " ':Jersey:': '🇯🇪',\n",
              " ':Jordan:': '🇯🇴',\n",
              " ':Kazakhstan:': '🇰🇿',\n",
              " ':Kenya:': '🇰🇪',\n",
              " ':Kiribati:': '🇰🇮',\n",
              " ':Kosovo:': '🇽🇰',\n",
              " ':Kuwait:': '🇰🇼',\n",
              " ':Kyrgyzstan:': '🇰🇬',\n",
              " ':Laos:': '🇱🇦',\n",
              " ':Latvia:': '🇱🇻',\n",
              " ':Lebanon:': '🇱🇧',\n",
              " ':Leo:': '♌',\n",
              " ':Lesotho:': '🇱🇸',\n",
              " ':Liberia:': '🇱🇷',\n",
              " ':Libra:': '♎',\n",
              " ':Libya:': '🇱🇾',\n",
              " ':Liechtenstein:': '🇱🇮',\n",
              " ':Lithuania:': '🇱🇹',\n",
              " ':Luxembourg:': '🇱🇺',\n",
              " ':Macao_SAR_China:': '🇲🇴',\n",
              " ':Madagascar:': '🇲🇬',\n",
              " ':Malawi:': '🇲🇼',\n",
              " ':Malaysia:': '🇲🇾',\n",
              " ':Maldives:': '🇲🇻',\n",
              " ':Mali:': '🇲🇱',\n",
              " ':Malta:': '🇲🇹',\n",
              " ':Marshall_Islands:': '🇲🇭',\n",
              " ':Martinique:': '🇲🇶',\n",
              " ':Mauritania:': '🇲🇷',\n",
              " ':Mauritius:': '🇲🇺',\n",
              " ':Mayotte:': '🇾🇹',\n",
              " ':Mexico:': '🇲🇽',\n",
              " ':Micronesia:': '🇫🇲',\n",
              " ':Moldova:': '🇲🇩',\n",
              " ':Monaco:': '🇲🇨',\n",
              " ':Mongolia:': '🇲🇳',\n",
              " ':Montenegro:': '🇲🇪',\n",
              " ':Montserrat:': '🇲🇸',\n",
              " ':Morocco:': '🇲🇦',\n",
              " ':Mozambique:': '🇲🇿',\n",
              " ':Mrs._Claus:': '🤶',\n",
              " ':Mrs._Claus_dark_skin_tone:': '🤶🏿',\n",
              " ':Mrs._Claus_light_skin_tone:': '🤶🏻',\n",
              " ':Mrs._Claus_medium-dark_skin_tone:': '🤶🏾',\n",
              " ':Mrs._Claus_medium-light_skin_tone:': '🤶🏼',\n",
              " ':Mrs._Claus_medium_skin_tone:': '🤶🏽',\n",
              " ':Myanmar_(Burma):': '🇲🇲',\n",
              " ':NEW_button:': '🆕',\n",
              " ':NG_button:': '🆖',\n",
              " ':Namibia:': '🇳🇦',\n",
              " ':Nauru:': '🇳🇷',\n",
              " ':Nepal:': '🇳🇵',\n",
              " ':Netherlands:': '🇳🇱',\n",
              " ':New_Caledonia:': '🇳🇨',\n",
              " ':New_Zealand:': '🇳🇿',\n",
              " ':Nicaragua:': '🇳🇮',\n",
              " ':Niger:': '🇳🇪',\n",
              " ':Nigeria:': '🇳🇬',\n",
              " ':Niue:': '🇳🇺',\n",
              " ':Norfolk_Island:': '🇳🇫',\n",
              " ':North_Korea:': '🇰🇵',\n",
              " ':North_Macedonia:': '🇲🇰',\n",
              " ':Northern_Mariana_Islands:': '🇲🇵',\n",
              " ':Norway:': '🇳🇴',\n",
              " ':OK_button:': '🆗',\n",
              " ':OK_hand:': '👌',\n",
              " ':OK_hand_dark_skin_tone:': '👌🏿',\n",
              " ':OK_hand_light_skin_tone:': '👌🏻',\n",
              " ':OK_hand_medium-dark_skin_tone:': '👌🏾',\n",
              " ':OK_hand_medium-light_skin_tone:': '👌🏼',\n",
              " ':OK_hand_medium_skin_tone:': '👌🏽',\n",
              " ':ON!_arrow:': '🔛',\n",
              " ':O_button_(blood_type):': '🅾️',\n",
              " ':Oman:': '🇴🇲',\n",
              " ':Ophiuchus:': '⛎',\n",
              " ':P_button:': '🅿️',\n",
              " ':Pakistan:': '🇵🇰',\n",
              " ':Palau:': '🇵🇼',\n",
              " ':Palestinian_Territories:': '🇵🇸',\n",
              " ':Panama:': '🇵🇦',\n",
              " ':Papua_New_Guinea:': '🇵🇬',\n",
              " ':Paraguay:': '🇵🇾',\n",
              " ':Peru:': '🇵🇪',\n",
              " ':Philippines:': '🇵🇭',\n",
              " ':Pisces:': '♓',\n",
              " ':Pitcairn_Islands:': '🇵🇳',\n",
              " ':Poland:': '🇵🇱',\n",
              " ':Portugal:': '🇵🇹',\n",
              " ':Puerto_Rico:': '🇵🇷',\n",
              " ':Qatar:': '🇶🇦',\n",
              " ':Romania:': '🇷🇴',\n",
              " ':Russia:': '🇷🇺',\n",
              " ':Rwanda:': '🇷🇼',\n",
              " ':Réunion:': '🇷🇪',\n",
              " ':SOON_arrow:': '🔜',\n",
              " ':SOS_button:': '🆘',\n",
              " ':Sagittarius:': '♐',\n",
              " ':Samoa:': '🇼🇸',\n",
              " ':San_Marino:': '🇸🇲',\n",
              " ':Santa_Claus:': '🎅',\n",
              " ':Santa_Claus_dark_skin_tone:': '🎅🏿',\n",
              " ':Santa_Claus_light_skin_tone:': '🎅🏻',\n",
              " ':Santa_Claus_medium-dark_skin_tone:': '🎅🏾',\n",
              " ':Santa_Claus_medium-light_skin_tone:': '🎅🏼',\n",
              " ':Santa_Claus_medium_skin_tone:': '🎅🏽',\n",
              " ':Saudi_Arabia:': '🇸🇦',\n",
              " ':Scorpio:': '♏',\n",
              " ':Scotland:': '🏴\\U000e0067\\U000e0062\\U000e0073\\U000e0063\\U000e0074\\U000e007f',\n",
              " ':Senegal:': '🇸🇳',\n",
              " ':Serbia:': '🇷🇸',\n",
              " ':Seychelles:': '🇸🇨',\n",
              " ':Sierra_Leone:': '🇸🇱',\n",
              " ':Singapore:': '🇸🇬',\n",
              " ':Sint_Maarten:': '🇸🇽',\n",
              " ':Slovakia:': '🇸🇰',\n",
              " ':Slovenia:': '🇸🇮',\n",
              " ':Solomon_Islands:': '🇸🇧',\n",
              " ':Somalia:': '🇸🇴',\n",
              " ':South_Africa:': '🇿🇦',\n",
              " ':South_Georgia_&_South_Sandwich_Islands:': '🇬🇸',\n",
              " ':South_Korea:': '🇰🇷',\n",
              " ':South_Sudan:': '🇸🇸',\n",
              " ':Spain:': '🇪🇸',\n",
              " ':Sri_Lanka:': '🇱🇰',\n",
              " ':St._Barthélemy:': '🇧🇱',\n",
              " ':St._Helena:': '🇸🇭',\n",
              " ':St._Kitts_&_Nevis:': '🇰🇳',\n",
              " ':St._Lucia:': '🇱🇨',\n",
              " ':St._Martin:': '🇲🇫',\n",
              " ':St._Pierre_&_Miquelon:': '🇵🇲',\n",
              " ':St._Vincent_&_Grenadines:': '🇻🇨',\n",
              " ':Statue_of_Liberty:': '🗽',\n",
              " ':Sudan:': '🇸🇩',\n",
              " ':Suriname:': '🇸🇷',\n",
              " ':Svalbard_&_Jan_Mayen:': '🇸🇯',\n",
              " ':Sweden:': '🇸🇪',\n",
              " ':Switzerland:': '🇨🇭',\n",
              " ':Syria:': '🇸🇾',\n",
              " ':São_Tomé_&_Príncipe:': '🇸🇹',\n",
              " ':T-Rex:': '🦖',\n",
              " ':TOP_arrow:': '🔝',\n",
              " ':Taiwan:': '🇹🇼',\n",
              " ':Tajikistan:': '🇹🇯',\n",
              " ':Tanzania:': '🇹🇿',\n",
              " ':Taurus:': '♉',\n",
              " ':Thailand:': '🇹🇭',\n",
              " ':Timor-Leste:': '🇹🇱',\n",
              " ':Togo:': '🇹🇬',\n",
              " ':Tokelau:': '🇹🇰',\n",
              " ':Tokyo_tower:': '🗼',\n",
              " ':Tonga:': '🇹🇴',\n",
              " ':Trinidad_&_Tobago:': '🇹🇹',\n",
              " ':Tristan_da_Cunha:': '🇹🇦',\n",
              " ':Tunisia:': '🇹🇳',\n",
              " ':Turkey:': '🇹🇷',\n",
              " ':Turkmenistan:': '🇹🇲',\n",
              " ':Turks_&_Caicos_Islands:': '🇹🇨',\n",
              " ':Tuvalu:': '🇹🇻',\n",
              " ':U.S._Outlying_Islands:': '🇺🇲',\n",
              " ':U.S._Virgin_Islands:': '🇻🇮',\n",
              " ':UP!_button:': '🆙',\n",
              " ':Uganda:': '🇺🇬',\n",
              " ':Ukraine:': '🇺🇦',\n",
              " ':United_Arab_Emirates:': '🇦🇪',\n",
              " ':United_Kingdom:': '🇬🇧',\n",
              " ':United_Nations:': '🇺🇳',\n",
              " ':United_States:': '🇺🇸',\n",
              " ':Uruguay:': '🇺🇾',\n",
              " ':Uzbekistan:': '🇺🇿',\n",
              " ':VS_button:': '🆚',\n",
              " ':Vanuatu:': '🇻🇺',\n",
              " ':Vatican_City:': '🇻🇦',\n",
              " ':Venezuela:': '🇻🇪',\n",
              " ':Vietnam:': '🇻🇳',\n",
              " ':Virgo:': '♍',\n",
              " ':Wales:': '🏴\\U000e0067\\U000e0062\\U000e0077\\U000e006c\\U000e0073\\U000e007f',\n",
              " ':Wallis_&_Futuna:': '🇼🇫',\n",
              " ':Western_Sahara:': '🇪🇭',\n",
              " ':Yemen:': '🇾🇪',\n",
              " ':Zambia:': '🇿🇲',\n",
              " ':Zimbabwe:': '🇿🇼',\n",
              " ':abacus:': '🧮',\n",
              " ':accordion:': '\\U0001fa97',\n",
              " ':adhesive_bandage:': '\\U0001fa79',\n",
              " ':admission_tickets:': '🎟️',\n",
              " ':aerial_tramway:': '🚡',\n",
              " ':airplane:': '✈️',\n",
              " ':airplane_arrival:': '🛬',\n",
              " ':airplane_departure:': '🛫',\n",
              " ':alarm_clock:': '⏰',\n",
              " ':alembic:': '⚗️',\n",
              " ':alien:': '👽',\n",
              " ':alien_monster:': '👾',\n",
              " ':ambulance:': '🚑',\n",
              " ':american_football:': '🏈',\n",
              " ':amphora:': '🏺',\n",
              " ':anatomical_heart:': '\\U0001fac0',\n",
              " ':anchor:': '⚓',\n",
              " ':anger_symbol:': '💢',\n",
              " ':angry_face:': '😠',\n",
              " ':angry_face_with_horns:': '👿',\n",
              " ':anguished_face:': '😧',\n",
              " ':ant:': '🐜',\n",
              " ':antenna_bars:': '📶',\n",
              " ':anxious_face_with_sweat:': '😰',\n",
              " ':articulated_lorry:': '🚛',\n",
              " ':artist:': '🧑\\u200d🎨',\n",
              " ':artist_dark_skin_tone:': '🧑🏿\\u200d🎨',\n",
              " ':artist_light_skin_tone:': '🧑🏻\\u200d🎨',\n",
              " ':artist_medium-dark_skin_tone:': '🧑🏾\\u200d🎨',\n",
              " ':artist_medium-light_skin_tone:': '🧑🏼\\u200d🎨',\n",
              " ':artist_medium_skin_tone:': '🧑🏽\\u200d🎨',\n",
              " ':artist_palette:': '🎨',\n",
              " ':astonished_face:': '😲',\n",
              " ':astronaut:': '🧑\\u200d🚀',\n",
              " ':astronaut_dark_skin_tone:': '🧑🏿\\u200d🚀',\n",
              " ':astronaut_light_skin_tone:': '🧑🏻\\u200d🚀',\n",
              " ':astronaut_medium-dark_skin_tone:': '🧑🏾\\u200d🚀',\n",
              " ':astronaut_medium-light_skin_tone:': '🧑🏼\\u200d🚀',\n",
              " ':astronaut_medium_skin_tone:': '🧑🏽\\u200d🚀',\n",
              " ':atom_symbol:': '⚛️',\n",
              " ':auto_rickshaw:': '\\U0001f6fa',\n",
              " ':automobile:': '🚗',\n",
              " ':avocado:': '🥑',\n",
              " ':axe:': '\\U0001fa93',\n",
              " ':baby:': '👶',\n",
              " ':baby_angel:': '👼',\n",
              " ':baby_angel_dark_skin_tone:': '👼🏿',\n",
              " ':baby_angel_light_skin_tone:': '👼🏻',\n",
              " ':baby_angel_medium-dark_skin_tone:': '👼🏾',\n",
              " ':baby_angel_medium-light_skin_tone:': '👼🏼',\n",
              " ':baby_angel_medium_skin_tone:': '👼🏽',\n",
              " ':baby_bottle:': '🍼',\n",
              " ':baby_chick:': '🐤',\n",
              " ':baby_dark_skin_tone:': '👶🏿',\n",
              " ':baby_light_skin_tone:': '👶🏻',\n",
              " ':baby_medium-dark_skin_tone:': '👶🏾',\n",
              " ':baby_medium-light_skin_tone:': '👶🏼',\n",
              " ':baby_medium_skin_tone:': '👶🏽',\n",
              " ':baby_symbol:': '🚼',\n",
              " ':backhand_index_pointing_down:': '👇',\n",
              " ':backhand_index_pointing_down_dark_skin_tone:': '👇🏿',\n",
              " ':backhand_index_pointing_down_light_skin_tone:': '👇🏻',\n",
              " ':backhand_index_pointing_down_medium-dark_skin_tone:': '👇🏾',\n",
              " ':backhand_index_pointing_down_medium-light_skin_tone:': '👇🏼',\n",
              " ':backhand_index_pointing_down_medium_skin_tone:': '👇🏽',\n",
              " ':backhand_index_pointing_left:': '👈',\n",
              " ':backhand_index_pointing_left_dark_skin_tone:': '👈🏿',\n",
              " ':backhand_index_pointing_left_light_skin_tone:': '👈🏻',\n",
              " ':backhand_index_pointing_left_medium-dark_skin_tone:': '👈🏾',\n",
              " ':backhand_index_pointing_left_medium-light_skin_tone:': '👈🏼',\n",
              " ':backhand_index_pointing_left_medium_skin_tone:': '👈🏽',\n",
              " ':backhand_index_pointing_right:': '👉',\n",
              " ':backhand_index_pointing_right_dark_skin_tone:': '👉🏿',\n",
              " ':backhand_index_pointing_right_light_skin_tone:': '👉🏻',\n",
              " ':backhand_index_pointing_right_medium-dark_skin_tone:': '👉🏾',\n",
              " ':backhand_index_pointing_right_medium-light_skin_tone:': '👉🏼',\n",
              " ':backhand_index_pointing_right_medium_skin_tone:': '👉🏽',\n",
              " ':backhand_index_pointing_up:': '👆',\n",
              " ':backhand_index_pointing_up_dark_skin_tone:': '👆🏿',\n",
              " ':backhand_index_pointing_up_light_skin_tone:': '👆🏻',\n",
              " ':backhand_index_pointing_up_medium-dark_skin_tone:': '👆🏾',\n",
              " ':backhand_index_pointing_up_medium-light_skin_tone:': '👆🏼',\n",
              " ':backhand_index_pointing_up_medium_skin_tone:': '👆🏽',\n",
              " ':backpack:': '🎒',\n",
              " ':bacon:': '🥓',\n",
              " ':badger:': '🦡',\n",
              " ':badminton:': '🏸',\n",
              " ':bagel:': '🥯',\n",
              " ':baggage_claim:': '🛄',\n",
              " ':baguette_bread:': '🥖',\n",
              " ':balance_scale:': '⚖️',\n",
              " ':bald:': '🦲',\n",
              " ':ballet_shoes:': '\\U0001fa70',\n",
              " ':balloon:': '🎈',\n",
              " ':ballot_box_with_ballot:': '🗳️',\n",
              " ':banana:': '🍌',\n",
              " ':banjo:': '\\U0001fa95',\n",
              " ':bank:': '🏦',\n",
              " ':bar_chart:': '📊',\n",
              " ':barber_pole:': '💈',\n",
              " ':baseball:': '⚾',\n",
              " ':basket:': '🧺',\n",
              " ':basketball:': '🏀',\n",
              " ':bat:': '🦇',\n",
              " ':bathtub:': '🛁',\n",
              " ':battery:': '🔋',\n",
              " ':beach_with_umbrella:': '🏖️',\n",
              " ':beaming_face_with_smiling_eyes:': '😁',\n",
              " ':beans:': '\\U0001fad8',\n",
              " ':bear:': '🐻',\n",
              " ':beating_heart:': '💓',\n",
              " ':beaver:': '\\U0001f9ab',\n",
              " ':bed:': '🛏️',\n",
              " ':beer_mug:': '🍺',\n",
              " ':beetle:': '\\U0001fab2',\n",
              " ':bell:': '🔔',\n",
              " ':bell_pepper:': '\\U0001fad1',\n",
              " ':bell_with_slash:': '🔕',\n",
              " ':bellhop_bell:': '🛎️',\n",
              " ':bento_box:': '🍱',\n",
              " ':beverage_box:': '\\U0001f9c3',\n",
              " ':bicycle:': '🚲',\n",
              " ':bikini:': '👙',\n",
              " ':billed_cap:': '🧢',\n",
              " ':biohazard:': '☣️',\n",
              " ':bird:': '🐦',\n",
              " ':birthday_cake:': '🎂',\n",
              " ':bison:': '\\U0001f9ac',\n",
              " ':biting_lip:': '\\U0001fae6',\n",
              " ':black_cat:': '🐈\\u200d⬛',\n",
              " ':black_circle:': '⚫',\n",
              " ':black_flag:': '🏴',\n",
              " ':black_heart:': '🖤',\n",
              " ':black_large_square:': '⬛',\n",
              " ':black_medium-small_square:': '◾',\n",
              " ':black_medium_square:': '◼️',\n",
              " ':black_nib:': '✒️',\n",
              " ':black_small_square:': '▪️',\n",
              " ':black_square_button:': '🔲',\n",
              " ':blossom:': '🌼',\n",
              " ':blowfish:': '🐡',\n",
              " ':blue_book:': '📘',\n",
              " ':blue_circle:': '🔵',\n",
              " ':blue_heart:': '💙',\n",
              " ':blue_square:': '\\U0001f7e6',\n",
              " ':blueberries:': '\\U0001fad0',\n",
              " ':boar:': '🐗',\n",
              " ':bomb:': '💣',\n",
              " ':bone:': '🦴',\n",
              " ':bookmark:': '🔖',\n",
              " ':bookmark_tabs:': '📑',\n",
              " ':books:': '📚',\n",
              " ':boomerang:': '\\U0001fa83',\n",
              " ':bottle_with_popping_cork:': '🍾',\n",
              " ':bouquet:': '💐',\n",
              " ':bow_and_arrow:': '🏹',\n",
              " ':bowl_with_spoon:': '🥣',\n",
              " ':bowling:': '🎳',\n",
              " ':boxing_glove:': '🥊',\n",
              " ':boy:': '👦',\n",
              " ':boy_dark_skin_tone:': '👦🏿',\n",
              " ':boy_light_skin_tone:': '👦🏻',\n",
              " ':boy_medium-dark_skin_tone:': '👦🏾',\n",
              " ':boy_medium-light_skin_tone:': '👦🏼',\n",
              " ':boy_medium_skin_tone:': '👦🏽',\n",
              " ':brain:': '🧠',\n",
              " ':bread:': '🍞',\n",
              " ':breast-feeding:': '🤱',\n",
              " ':breast-feeding_dark_skin_tone:': '🤱🏿',\n",
              " ':breast-feeding_light_skin_tone:': '🤱🏻',\n",
              " ':breast-feeding_medium-dark_skin_tone:': '🤱🏾',\n",
              " ':breast-feeding_medium-light_skin_tone:': '🤱🏼',\n",
              " ':breast-feeding_medium_skin_tone:': '🤱🏽',\n",
              " ':brick:': '🧱',\n",
              " ':bridge_at_night:': '🌉',\n",
              " ':briefcase:': '💼',\n",
              " ':briefs:': '\\U0001fa72',\n",
              " ':bright_button:': '🔆',\n",
              " ':broccoli:': '🥦',\n",
              " ':broken_heart:': '💔',\n",
              " ':broom:': '🧹',\n",
              " ':brown_circle:': '\\U0001f7e4',\n",
              " ':brown_heart:': '\\U0001f90e',\n",
              " ':brown_square:': '\\U0001f7eb',\n",
              " ':bubble_tea:': '\\U0001f9cb',\n",
              " ':bubbles:': '\\U0001fae7',\n",
              " ':bucket:': '\\U0001faa3',\n",
              " ':bug:': '🐛',\n",
              " ':building_construction:': '🏗️',\n",
              " ':bullet_train:': '🚅',\n",
              " ':bullseye:': '🎯',\n",
              " ':burrito:': '🌯',\n",
              " ':bus:': '🚌',\n",
              " ':bus_stop:': '🚏',\n",
              " ':bust_in_silhouette:': '👤',\n",
              " ':busts_in_silhouette:': '👥',\n",
              " ':butter:': '\\U0001f9c8',\n",
              " ':butterfly:': '🦋',\n",
              " ':cactus:': '🌵',\n",
              " ':calendar:': '📅',\n",
              " ':call_me_hand:': '🤙',\n",
              " ':call_me_hand_dark_skin_tone:': '🤙🏿',\n",
              " ':call_me_hand_light_skin_tone:': '🤙🏻',\n",
              " ':call_me_hand_medium-dark_skin_tone:': '🤙🏾',\n",
              " ':call_me_hand_medium-light_skin_tone:': '🤙🏼',\n",
              " ':call_me_hand_medium_skin_tone:': '🤙🏽',\n",
              " ':camel:': '🐪',\n",
              " ':camera:': '📷',\n",
              " ':camera_with_flash:': '📸',\n",
              " ':camping:': '🏕️',\n",
              " ':candle:': '🕯️',\n",
              " ':candy:': '🍬',\n",
              " ':canned_food:': '🥫',\n",
              " ':canoe:': '🛶',\n",
              " ':card_file_box:': '🗃️',\n",
              " ':card_index:': '📇',\n",
              " ':card_index_dividers:': '🗂️',\n",
              " ':carousel_horse:': '🎠',\n",
              " ':carp_streamer:': '🎏',\n",
              " ':carpentry_saw:': '\\U0001fa9a',\n",
              " ':carrot:': '🥕',\n",
              " ':castle:': '🏰',\n",
              " ':cat:': '🐈',\n",
              " ':cat_face:': '🐱',\n",
              " ':cat_with_tears_of_joy:': '😹',\n",
              " ':cat_with_wry_smile:': '😼',\n",
              " ':chains:': '⛓️',\n",
              " ':chair:': '\\U0001fa91',\n",
              " ':chart_decreasing:': '📉',\n",
              " ':chart_increasing:': '📈',\n",
              " ':chart_increasing_with_yen:': '💹',\n",
              " ':check_box_with_check:': '☑️',\n",
              " ':check_mark:': '✔️',\n",
              " ':check_mark_button:': '✅',\n",
              " ':cheese_wedge:': '🧀',\n",
              " ':chequered_flag:': '🏁',\n",
              " ':cherries:': '🍒',\n",
              " ':cherry_blossom:': '🌸',\n",
              " ':chess_pawn:': '♟️',\n",
              " ':chestnut:': '🌰',\n",
              " ':chicken:': '🐔',\n",
              " ':child:': '🧒',\n",
              " ':child_dark_skin_tone:': '🧒🏿',\n",
              " ':child_light_skin_tone:': '🧒🏻',\n",
              " ':child_medium-dark_skin_tone:': '🧒🏾',\n",
              " ':child_medium-light_skin_tone:': '🧒🏼',\n",
              " ':child_medium_skin_tone:': '🧒🏽',\n",
              " ':children_crossing:': '🚸',\n",
              " ':chipmunk:': '🐿️',\n",
              " ':chocolate_bar:': '🍫',\n",
              " ':chopsticks:': '🥢',\n",
              " ':church:': '⛪',\n",
              " ':cigarette:': '🚬',\n",
              " ':cinema:': '🎦',\n",
              " ':circled_M:': 'Ⓜ️',\n",
              " ':circus_tent:': '🎪',\n",
              " ':cityscape:': '🏙️',\n",
              " ':cityscape_at_dusk:': '🌆',\n",
              " ':clamp:': '🗜️',\n",
              " ':clapper_board:': '🎬',\n",
              " ':clapping_hands:': '👏',\n",
              " ':clapping_hands_dark_skin_tone:': '👏🏿',\n",
              " ':clapping_hands_light_skin_tone:': '👏🏻',\n",
              " ':clapping_hands_medium-dark_skin_tone:': '👏🏾',\n",
              " ':clapping_hands_medium-light_skin_tone:': '👏🏼',\n",
              " ':clapping_hands_medium_skin_tone:': '👏🏽',\n",
              " ':classical_building:': '🏛️',\n",
              " ':clinking_beer_mugs:': '🍻',\n",
              " ':clinking_glasses:': '🥂',\n",
              " ':clipboard:': '📋',\n",
              " ':clockwise_vertical_arrows:': '🔃',\n",
              " ':closed_book:': '📕',\n",
              " ':closed_mailbox_with_lowered_flag:': '📪',\n",
              " ':closed_mailbox_with_raised_flag:': '📫',\n",
              " ':closed_umbrella:': '🌂',\n",
              " ':cloud:': '☁️',\n",
              " ':cloud_with_lightning:': '🌩️',\n",
              " ':cloud_with_lightning_and_rain:': '⛈️',\n",
              " ':cloud_with_rain:': '🌧️',\n",
              " ':cloud_with_snow:': '🌨️',\n",
              " ':clown_face:': '🤡',\n",
              " ':club_suit:': '♣️',\n",
              " ':clutch_bag:': '👝',\n",
              " ':coat:': '🧥',\n",
              " ':cockroach:': '\\U0001fab3',\n",
              " ':cocktail_glass:': '🍸',\n",
              " ':coconut:': '🥥',\n",
              " ':coffin:': '⚰️',\n",
              " ':coin:': '\\U0001fa99',\n",
              " ':cold_face:': '🥶',\n",
              " ':collision:': '💥',\n",
              " ':comet:': '☄️',\n",
              " ':compass:': '🧭',\n",
              " ':computer_disk:': '💽',\n",
              " ':computer_mouse:': '🖱️',\n",
              " ':confetti_ball:': '🎊',\n",
              " ':confounded_face:': '😖',\n",
              " ':confused_face:': '😕',\n",
              " ':construction:': '🚧',\n",
              " ':construction_worker:': '👷',\n",
              " ':construction_worker_dark_skin_tone:': '👷🏿',\n",
              " ':construction_worker_light_skin_tone:': '👷🏻',\n",
              " ':construction_worker_medium-dark_skin_tone:': '👷🏾',\n",
              " ':construction_worker_medium-light_skin_tone:': '👷🏼',\n",
              " ':construction_worker_medium_skin_tone:': '👷🏽',\n",
              " ':control_knobs:': '🎛️',\n",
              " ':convenience_store:': '🏪',\n",
              " ':cook:': '🧑\\u200d🍳',\n",
              " ':cook_dark_skin_tone:': '🧑🏿\\u200d🍳',\n",
              " ':cook_light_skin_tone:': '🧑🏻\\u200d🍳',\n",
              " ':cook_medium-dark_skin_tone:': '🧑🏾\\u200d🍳',\n",
              " ':cook_medium-light_skin_tone:': '🧑🏼\\u200d🍳',\n",
              " ':cook_medium_skin_tone:': '🧑🏽\\u200d🍳',\n",
              " ':cooked_rice:': '🍚',\n",
              " ':cookie:': '🍪',\n",
              " ':cooking:': '🍳',\n",
              " ':copyright:': '©️',\n",
              " ':coral:': '\\U0001fab8',\n",
              " ':couch_and_lamp:': '🛋️',\n",
              " ':counterclockwise_arrows_button:': '🔄',\n",
              " ':couple_with_heart:': '💑',\n",
              " ':couple_with_heart_dark_skin_tone:': '💑🏿',\n",
              " ':couple_with_heart_light_skin_tone:': '💑🏻',\n",
              " ':couple_with_heart_man_man:': '👨\\u200d❤️\\u200d👨',\n",
              " ':couple_with_heart_man_man_dark_skin_tone:': '👨🏿\\u200d❤️\\u200d👨🏿',\n",
              " ':couple_with_heart_man_man_dark_skin_tone_light_skin_tone:': '👨🏿\\u200d❤️\\u200d👨🏻',\n",
              " ':couple_with_heart_man_man_dark_skin_tone_medium-dark_skin_tone:': '👨🏿\\u200d❤️\\u200d👨🏾',\n",
              " ':couple_with_heart_man_man_dark_skin_tone_medium-light_skin_tone:': '👨🏿\\u200d❤️\\u200d👨🏼',\n",
              " ':couple_with_heart_man_man_dark_skin_tone_medium_skin_tone:': '👨🏿\\u200d❤️\\u200d👨🏽',\n",
              " ':couple_with_heart_man_man_light_skin_tone:': '👨🏻\\u200d❤️\\u200d👨🏻',\n",
              " ':couple_with_heart_man_man_light_skin_tone_dark_skin_tone:': '👨🏻\\u200d❤️\\u200d👨🏿',\n",
              " ':couple_with_heart_man_man_light_skin_tone_medium-dark_skin_tone:': '👨🏻\\u200d❤️\\u200d👨🏾',\n",
              " ':couple_with_heart_man_man_light_skin_tone_medium-light_skin_tone:': '👨🏻\\u200d❤️\\u200d👨🏼',\n",
              " ':couple_with_heart_man_man_light_skin_tone_medium_skin_tone:': '👨🏻\\u200d❤️\\u200d👨🏽',\n",
              " ':couple_with_heart_man_man_medium-dark_skin_tone:': '👨🏾\\u200d❤️\\u200d👨🏾',\n",
              " ':couple_with_heart_man_man_medium-dark_skin_tone_dark_skin_tone:': '👨🏾\\u200d❤️\\u200d👨🏿',\n",
              " ':couple_with_heart_man_man_medium-dark_skin_tone_light_skin_tone:': '👨🏾\\u200d❤️\\u200d👨🏻',\n",
              " ':couple_with_heart_man_man_medium-dark_skin_tone_medium-light_skin_tone:': '👨🏾\\u200d❤️\\u200d👨🏼',\n",
              " ':couple_with_heart_man_man_medium-dark_skin_tone_medium_skin_tone:': '👨🏾\\u200d❤️\\u200d👨🏽',\n",
              " ':couple_with_heart_man_man_medium-light_skin_tone:': '👨🏼\\u200d❤️\\u200d👨🏼',\n",
              " ':couple_with_heart_man_man_medium-light_skin_tone_dark_skin_tone:': '👨🏼\\u200d❤️\\u200d👨🏿',\n",
              " ':couple_with_heart_man_man_medium-light_skin_tone_light_skin_tone:': '👨🏼\\u200d❤️\\u200d👨🏻',\n",
              " ':couple_with_heart_man_man_medium-light_skin_tone_medium-dark_skin_tone:': '👨🏼\\u200d❤️\\u200d👨🏾',\n",
              " ':couple_with_heart_man_man_medium-light_skin_tone_medium_skin_tone:': '👨🏼\\u200d❤️\\u200d👨🏽',\n",
              " ':couple_with_heart_man_man_medium_skin_tone:': '👨🏽\\u200d❤️\\u200d👨🏽',\n",
              " ':couple_with_heart_man_man_medium_skin_tone_dark_skin_tone:': '👨🏽\\u200d❤️\\u200d👨🏿',\n",
              " ':couple_with_heart_man_man_medium_skin_tone_light_skin_tone:': '👨🏽\\u200d❤️\\u200d👨🏻',\n",
              " ':couple_with_heart_man_man_medium_skin_tone_medium-dark_skin_tone:': '👨🏽\\u200d❤️\\u200d👨🏾',\n",
              " ':couple_with_heart_man_man_medium_skin_tone_medium-light_skin_tone:': '👨🏽\\u200d❤️\\u200d👨🏼',\n",
              " ':couple_with_heart_medium-dark_skin_tone:': '💑🏾',\n",
              " ':couple_with_heart_medium-light_skin_tone:': '💑🏼',\n",
              " ':couple_with_heart_medium_skin_tone:': '💑🏽',\n",
              " ':couple_with_heart_person_person_dark_skin_tone_light_skin_tone:': '🧑🏿\\u200d❤️\\u200d🧑🏻',\n",
              " ':couple_with_heart_person_person_dark_skin_tone_medium-dark_skin_tone:': '🧑🏿\\u200d❤️\\u200d🧑🏾',\n",
              " ':couple_with_heart_person_person_dark_skin_tone_medium-light_skin_tone:': '🧑🏿\\u200d❤️\\u200d🧑🏼',\n",
              " ':couple_with_heart_person_person_dark_skin_tone_medium_skin_tone:': '🧑🏿\\u200d❤️\\u200d🧑🏽',\n",
              " ':couple_with_heart_person_person_light_skin_tone_dark_skin_tone:': '🧑🏻\\u200d❤️\\u200d🧑🏿',\n",
              " ':couple_with_heart_person_person_light_skin_tone_medium-dark_skin_tone:': '🧑🏻\\u200d❤️\\u200d🧑🏾',\n",
              " ':couple_with_heart_person_person_light_skin_tone_medium-light_skin_tone:': '🧑🏻\\u200d❤️\\u200d🧑🏼',\n",
              " ':couple_with_heart_person_person_light_skin_tone_medium_skin_tone:': '🧑🏻\\u200d❤️\\u200d🧑🏽',\n",
              " ':couple_with_heart_person_person_medium-dark_skin_tone_dark_skin_tone:': '🧑🏾\\u200d❤️\\u200d🧑🏿',\n",
              " ':couple_with_heart_person_person_medium-dark_skin_tone_light_skin_tone:': '🧑🏾\\u200d❤️\\u200d🧑🏻',\n",
              " ':couple_with_heart_person_person_medium-dark_skin_tone_medium-light_skin_tone:': '🧑🏾\\u200d❤️\\u200d🧑🏼',\n",
              " ':couple_with_heart_person_person_medium-dark_skin_tone_medium_skin_tone:': '🧑🏾\\u200d❤️\\u200d🧑🏽',\n",
              " ':couple_with_heart_person_person_medium-light_skin_tone_dark_skin_tone:': '🧑🏼\\u200d❤️\\u200d🧑🏿',\n",
              " ':couple_with_heart_person_person_medium-light_skin_tone_light_skin_tone:': '🧑🏼\\u200d❤️\\u200d🧑🏻',\n",
              " ':couple_with_heart_person_person_medium-light_skin_tone_medium-dark_skin_tone:': '🧑🏼\\u200d❤️\\u200d🧑🏾',\n",
              " ':couple_with_heart_person_person_medium-light_skin_tone_medium_skin_tone:': '🧑🏼\\u200d❤️\\u200d🧑🏽',\n",
              " ':couple_with_heart_person_person_medium_skin_tone_dark_skin_tone:': '🧑🏽\\u200d❤️\\u200d🧑🏿',\n",
              " ':couple_with_heart_person_person_medium_skin_tone_light_skin_tone:': '🧑🏽\\u200d❤️\\u200d🧑🏻',\n",
              " ':couple_with_heart_person_person_medium_skin_tone_medium-dark_skin_tone:': '🧑🏽\\u200d❤️\\u200d🧑🏾',\n",
              " ':couple_with_heart_person_person_medium_skin_tone_medium-light_skin_tone:': '🧑🏽\\u200d❤️\\u200d🧑🏼',\n",
              " ':couple_with_heart_woman_man:': '👩\\u200d❤️\\u200d👨',\n",
              " ':couple_with_heart_woman_man_dark_skin_tone:': '👩🏿\\u200d❤️\\u200d👨🏿',\n",
              " ':couple_with_heart_woman_man_dark_skin_tone_light_skin_tone:': '👩🏿\\u200d❤️\\u200d👨🏻',\n",
              " ':couple_with_heart_woman_man_dark_skin_tone_medium-dark_skin_tone:': '👩🏿\\u200d❤️\\u200d👨🏾',\n",
              " ':couple_with_heart_woman_man_dark_skin_tone_medium-light_skin_tone:': '👩🏿\\u200d❤️\\u200d👨🏼',\n",
              " ':couple_with_heart_woman_man_dark_skin_tone_medium_skin_tone:': '👩🏿\\u200d❤️\\u200d👨🏽',\n",
              " ':couple_with_heart_woman_man_light_skin_tone:': '👩🏻\\u200d❤️\\u200d👨🏻',\n",
              " ':couple_with_heart_woman_man_light_skin_tone_dark_skin_tone:': '👩🏻\\u200d❤️\\u200d👨🏿',\n",
              " ':couple_with_heart_woman_man_light_skin_tone_medium-dark_skin_tone:': '👩🏻\\u200d❤️\\u200d👨🏾',\n",
              " ':couple_with_heart_woman_man_light_skin_tone_medium-light_skin_tone:': '👩🏻\\u200d❤️\\u200d👨🏼',\n",
              " ':couple_with_heart_woman_man_light_skin_tone_medium_skin_tone:': '👩🏻\\u200d❤️\\u200d👨🏽',\n",
              " ':couple_with_heart_woman_man_medium-dark_skin_tone:': '👩🏾\\u200d❤️\\u200d👨🏾',\n",
              " ':couple_with_heart_woman_man_medium-dark_skin_tone_dark_skin_tone:': '👩🏾\\u200d❤️\\u200d👨🏿',\n",
              " ':couple_with_heart_woman_man_medium-dark_skin_tone_light_skin_tone:': '👩🏾\\u200d❤️\\u200d👨🏻',\n",
              " ':couple_with_heart_woman_man_medium-dark_skin_tone_medium-light_skin_tone:': '👩🏾\\u200d❤️\\u200d👨🏼',\n",
              " ':couple_with_heart_woman_man_medium-dark_skin_tone_medium_skin_tone:': '👩🏾\\u200d❤️\\u200d👨🏽',\n",
              " ':couple_with_heart_woman_man_medium-light_skin_tone:': '👩🏼\\u200d❤️\\u200d👨🏼',\n",
              " ':couple_with_heart_woman_man_medium-light_skin_tone_dark_skin_tone:': '👩🏼\\u200d❤️\\u200d👨🏿',\n",
              " ':couple_with_heart_woman_man_medium-light_skin_tone_light_skin_tone:': '👩🏼\\u200d❤️\\u200d👨🏻',\n",
              " ':couple_with_heart_woman_man_medium-light_skin_tone_medium-dark_skin_tone:': '👩🏼\\u200d❤️\\u200d👨🏾',\n",
              " ':couple_with_heart_woman_man_medium-light_skin_tone_medium_skin_tone:': '👩🏼\\u200d❤️\\u200d👨🏽',\n",
              " ':couple_with_heart_woman_man_medium_skin_tone:': '👩🏽\\u200d❤️\\u200d👨🏽',\n",
              " ':couple_with_heart_woman_man_medium_skin_tone_dark_skin_tone:': '👩🏽\\u200d❤️\\u200d👨🏿',\n",
              " ':couple_with_heart_woman_man_medium_skin_tone_light_skin_tone:': '👩🏽\\u200d❤️\\u200d👨🏻',\n",
              " ':couple_with_heart_woman_man_medium_skin_tone_medium-dark_skin_tone:': '👩🏽\\u200d❤️\\u200d👨🏾',\n",
              " ':couple_with_heart_woman_man_medium_skin_tone_medium-light_skin_tone:': '👩🏽\\u200d❤️\\u200d👨🏼',\n",
              " ':couple_with_heart_woman_woman:': '👩\\u200d❤️\\u200d👩',\n",
              " ':couple_with_heart_woman_woman_dark_skin_tone:': '👩🏿\\u200d❤️\\u200d👩🏿',\n",
              " ':couple_with_heart_woman_woman_dark_skin_tone_light_skin_tone:': '👩🏿\\u200d❤️\\u200d👩🏻',\n",
              " ':couple_with_heart_woman_woman_dark_skin_tone_medium-dark_skin_tone:': '👩🏿\\u200d❤️\\u200d👩🏾',\n",
              " ':couple_with_heart_woman_woman_dark_skin_tone_medium-light_skin_tone:': '👩🏿\\u200d❤️\\u200d👩🏼',\n",
              " ':couple_with_heart_woman_woman_dark_skin_tone_medium_skin_tone:': '👩🏿\\u200d❤️\\u200d👩🏽',\n",
              " ':couple_with_heart_woman_woman_light_skin_tone:': '👩🏻\\u200d❤️\\u200d👩🏻',\n",
              " ':couple_with_heart_woman_woman_light_skin_tone_dark_skin_tone:': '👩🏻\\u200d❤️\\u200d👩🏿',\n",
              " ':couple_with_heart_woman_woman_light_skin_tone_medium-dark_skin_tone:': '👩🏻\\u200d❤️\\u200d👩🏾',\n",
              " ':couple_with_heart_woman_woman_light_skin_tone_medium-light_skin_tone:': '👩🏻\\u200d❤️\\u200d👩🏼',\n",
              " ':couple_with_heart_woman_woman_light_skin_tone_medium_skin_tone:': '👩🏻\\u200d❤️\\u200d👩🏽',\n",
              " ':couple_with_heart_woman_woman_medium-dark_skin_tone:': '👩🏾\\u200d❤️\\u200d👩🏾',\n",
              " ':couple_with_heart_woman_woman_medium-dark_skin_tone_dark_skin_tone:': '👩🏾\\u200d❤️\\u200d👩🏿',\n",
              " ':couple_with_heart_woman_woman_medium-dark_skin_tone_light_skin_tone:': '👩🏾\\u200d❤️\\u200d👩🏻',\n",
              " ':couple_with_heart_woman_woman_medium-dark_skin_tone_medium-light_skin_tone:': '👩🏾\\u200d❤️\\u200d👩🏼',\n",
              " ':couple_with_heart_woman_woman_medium-dark_skin_tone_medium_skin_tone:': '👩🏾\\u200d❤️\\u200d👩🏽',\n",
              " ':couple_with_heart_woman_woman_medium-light_skin_tone:': '👩🏼\\u200d❤️\\u200d👩🏼',\n",
              " ':couple_with_heart_woman_woman_medium-light_skin_tone_dark_skin_tone:': '👩🏼\\u200d❤️\\u200d👩🏿',\n",
              " ':couple_with_heart_woman_woman_medium-light_skin_tone_light_skin_tone:': '👩🏼\\u200d❤️\\u200d👩🏻',\n",
              " ':couple_with_heart_woman_woman_medium-light_skin_tone_medium-dark_skin_tone:': '👩🏼\\u200d❤️\\u200d👩🏾',\n",
              " ':couple_with_heart_woman_woman_medium-light_skin_tone_medium_skin_tone:': '👩🏼\\u200d❤️\\u200d👩🏽',\n",
              " ':couple_with_heart_woman_woman_medium_skin_tone:': '👩🏽\\u200d❤️\\u200d👩🏽',\n",
              " ':couple_with_heart_woman_woman_medium_skin_tone_dark_skin_tone:': '👩🏽\\u200d❤️\\u200d👩🏿',\n",
              " ':couple_with_heart_woman_woman_medium_skin_tone_light_skin_tone:': '👩🏽\\u200d❤️\\u200d👩🏻',\n",
              " ':couple_with_heart_woman_woman_medium_skin_tone_medium-dark_skin_tone:': '👩🏽\\u200d❤️\\u200d👩🏾',\n",
              " ':couple_with_heart_woman_woman_medium_skin_tone_medium-light_skin_tone:': '👩🏽\\u200d❤️\\u200d👩🏼',\n",
              " ':cow:': '🐄',\n",
              " ':cow_face:': '🐮',\n",
              " ':cowboy_hat_face:': '🤠',\n",
              " ':crab:': '🦀',\n",
              " ':crayon:': '🖍️',\n",
              " ':credit_card:': '💳',\n",
              " ':crescent_moon:': '🌙',\n",
              " ':cricket:': '🦗',\n",
              " ':cricket_game:': '🏏',\n",
              " ':crocodile:': '🐊',\n",
              " ':croissant:': '🥐',\n",
              " ':cross_mark:': '❌',\n",
              " ':cross_mark_button:': '❎',\n",
              " ':crossed_fingers:': '🤞',\n",
              " ':crossed_fingers_dark_skin_tone:': '🤞🏿',\n",
              " ':crossed_fingers_light_skin_tone:': '🤞🏻',\n",
              " ':crossed_fingers_medium-dark_skin_tone:': '🤞🏾',\n",
              " ':crossed_fingers_medium-light_skin_tone:': '🤞🏼',\n",
              " ':crossed_fingers_medium_skin_tone:': '🤞🏽',\n",
              " ':crossed_flags:': '🎌',\n",
              " ':crossed_swords:': '⚔️',\n",
              " ':crown:': '👑',\n",
              " ':crutch:': '\\U0001fa7c',\n",
              " ':crying_cat:': '😿',\n",
              " ':crying_face:': '😢',\n",
              " ':crystal_ball:': '🔮',\n",
              " ':cucumber:': '🥒',\n",
              " ':cup_with_straw:': '🥤',\n",
              " ':cupcake:': '🧁',\n",
              " ':curling_stone:': '🥌',\n",
              " ':curly_hair:': '🦱',\n",
              " ':curly_loop:': '➰',\n",
              " ':currency_exchange:': '💱',\n",
              " ':curry_rice:': '🍛',\n",
              " ':custard:': '🍮',\n",
              " ':customs:': '🛃',\n",
              " ':cut_of_meat:': '🥩',\n",
              " ':cyclone:': '🌀',\n",
              " ':dagger:': '🗡️',\n",
              " ':dango:': '🍡',\n",
              " ':dark_skin_tone:': '🏿',\n",
              " ':dashing_away:': '💨',\n",
              " ':deaf_man:': '\\U0001f9cf\\u200d♂️',\n",
              " ':deaf_man_dark_skin_tone:': '\\U0001f9cf🏿\\u200d♂️',\n",
              " ':deaf_man_light_skin_tone:': '\\U0001f9cf🏻\\u200d♂️',\n",
              " ':deaf_man_medium-dark_skin_tone:': '\\U0001f9cf🏾\\u200d♂️',\n",
              " ':deaf_man_medium-light_skin_tone:': '\\U0001f9cf🏼\\u200d♂️',\n",
              " ':deaf_man_medium_skin_tone:': '\\U0001f9cf🏽\\u200d♂️',\n",
              " ':deaf_person:': '\\U0001f9cf',\n",
              " ':deaf_person_dark_skin_tone:': '\\U0001f9cf🏿',\n",
              " ':deaf_person_light_skin_tone:': '\\U0001f9cf🏻',\n",
              " ':deaf_person_medium-dark_skin_tone:': '\\U0001f9cf🏾',\n",
              " ':deaf_person_medium-light_skin_tone:': '\\U0001f9cf🏼',\n",
              " ':deaf_person_medium_skin_tone:': '\\U0001f9cf🏽',\n",
              " ':deaf_woman:': '\\U0001f9cf\\u200d♀️',\n",
              " ':deaf_woman_dark_skin_tone:': '\\U0001f9cf🏿\\u200d♀️',\n",
              " ':deaf_woman_light_skin_tone:': '\\U0001f9cf🏻\\u200d♀️',\n",
              " ':deaf_woman_medium-dark_skin_tone:': '\\U0001f9cf🏾\\u200d♀️',\n",
              " ':deaf_woman_medium-light_skin_tone:': '\\U0001f9cf🏼\\u200d♀️',\n",
              " ':deaf_woman_medium_skin_tone:': '\\U0001f9cf🏽\\u200d♀️',\n",
              " ':deciduous_tree:': '🌳',\n",
              " ':deer:': '🦌',\n",
              " ':delivery_truck:': '🚚',\n",
              " ':department_store:': '🏬',\n",
              " ':derelict_house:': '🏚️',\n",
              " ':desert:': '🏜️',\n",
              " ':desert_island:': '🏝️',\n",
              " ':desktop_computer:': '🖥️',\n",
              " ':detective:': '🕵️',\n",
              " ':detective_dark_skin_tone:': '🕵🏿',\n",
              " ':detective_light_skin_tone:': '🕵🏻',\n",
              " ':detective_medium-dark_skin_tone:': '🕵🏾',\n",
              " ':detective_medium-light_skin_tone:': '🕵🏼',\n",
              " ':detective_medium_skin_tone:': '🕵🏽',\n",
              " ':diamond_suit:': '♦️',\n",
              " ':diamond_with_a_dot:': '💠',\n",
              " ':dim_button:': '🔅',\n",
              " ':disappointed_face:': '😞',\n",
              " ':disguised_face:': '\\U0001f978',\n",
              " ':divide:': '➗',\n",
              " ':diving_mask:': '\\U0001f93f',\n",
              " ':diya_lamp:': '\\U0001fa94',\n",
              " ':dizzy:': '💫',\n",
              " ':dna:': '🧬',\n",
              " ':dodo:': '\\U0001f9a4',\n",
              " ':dog:': '🐕',\n",
              " ':dog_face:': '🐶',\n",
              " ':dollar_banknote:': '💵',\n",
              " ':dolphin:': '🐬',\n",
              " ':door:': '🚪',\n",
              " ':dotted_line_face:': '\\U0001fae5',\n",
              " ':dotted_six-pointed_star:': '🔯',\n",
              " ':double_curly_loop:': '➿',\n",
              " ':double_exclamation_mark:': '‼️',\n",
              " ':doughnut:': '🍩',\n",
              " ':dove:': '🕊️',\n",
              " ':down-left_arrow:': '↙️',\n",
              " ':down-right_arrow:': '↘️',\n",
              " ':down_arrow:': '⬇️',\n",
              " ':downcast_face_with_sweat:': '😓',\n",
              " ':downwards_button:': '🔽',\n",
              " ':dragon:': '🐉',\n",
              " ':dragon_face:': '🐲',\n",
              " ':dress:': '👗',\n",
              " ':drooling_face:': '🤤',\n",
              " ':drop_of_blood:': '\\U0001fa78',\n",
              " ':droplet:': '💧',\n",
              " ':drum:': '🥁',\n",
              " ':duck:': '🦆',\n",
              " ':dumpling:': '🥟',\n",
              " ':dvd:': '📀',\n",
              " ':e-mail:': '📧',\n",
              " ':eagle:': '🦅',\n",
              " ':ear:': '👂',\n",
              " ':ear_dark_skin_tone:': '👂🏿',\n",
              " ':ear_light_skin_tone:': '👂🏻',\n",
              " ':ear_medium-dark_skin_tone:': '👂🏾',\n",
              " ':ear_medium-light_skin_tone:': '👂🏼',\n",
              " ':ear_medium_skin_tone:': '👂🏽',\n",
              " ':ear_of_corn:': '🌽',\n",
              " ':ear_with_hearing_aid:': '\\U0001f9bb',\n",
              " ':ear_with_hearing_aid_dark_skin_tone:': '\\U0001f9bb🏿',\n",
              " ':ear_with_hearing_aid_light_skin_tone:': '\\U0001f9bb🏻',\n",
              " ':ear_with_hearing_aid_medium-dark_skin_tone:': '\\U0001f9bb🏾',\n",
              " ':ear_with_hearing_aid_medium-light_skin_tone:': '\\U0001f9bb🏼',\n",
              " ':ear_with_hearing_aid_medium_skin_tone:': '\\U0001f9bb🏽',\n",
              " ':egg:': '🥚',\n",
              " ':eggplant:': '🍆',\n",
              " ':eight-pointed_star:': '✴️',\n",
              " ':eight-spoked_asterisk:': '✳️',\n",
              " ':eight-thirty:': '🕣',\n",
              " ':eight_o’clock:': '🕗',\n",
              " ':eject_button:': '⏏️',\n",
              " ':electric_plug:': '🔌',\n",
              " ':elephant:': '🐘',\n",
              " ':elevator:': '\\U0001f6d7',\n",
              " ':eleven-thirty:': '🕦',\n",
              " ':eleven_o’clock:': '🕚',\n",
              " ':elf:': '🧝',\n",
              " ':elf_dark_skin_tone:': '🧝🏿',\n",
              " ':elf_light_skin_tone:': '🧝🏻',\n",
              " ':elf_medium-dark_skin_tone:': '🧝🏾',\n",
              " ':elf_medium-light_skin_tone:': '🧝🏼',\n",
              " ':elf_medium_skin_tone:': '🧝🏽',\n",
              " ':empty_nest:': '\\U0001fab9',\n",
              " ':envelope:': '✉️',\n",
              " ':envelope_with_arrow:': '📩',\n",
              " ':euro_banknote:': '💶',\n",
              " ':evergreen_tree:': '🌲',\n",
              " ':ewe:': '🐑',\n",
              " ':exclamation_question_mark:': '⁉️',\n",
              " ':exploding_head:': '🤯',\n",
              " ':expressionless_face:': '😑',\n",
              " ':eye:': '👁️',\n",
              " ':eye_in_speech_bubble:': '👁️\\u200d🗨️',\n",
              " ':eyes:': '👀',\n",
              " ':face_blowing_a_kiss:': '😘',\n",
              " ':face_exhaling:': '😮\\u200d💨',\n",
              " ':face_holding_back_tears:': '\\U0001f979',\n",
              " ':face_in_clouds:': '😶\\u200d🌫️',\n",
              " ':face_savoring_food:': '😋',\n",
              " ':face_screaming_in_fear:': '😱',\n",
              " ':face_vomiting:': '🤮',\n",
              " ':face_with_crossed-out_eyes:': '😵',\n",
              " ':face_with_diagonal_mouth:': '\\U0001fae4',\n",
              " ':face_with_hand_over_mouth:': '🤭',\n",
              " ':face_with_head-bandage:': '🤕',\n",
              " ':face_with_medical_mask:': '😷',\n",
              " ':face_with_monocle:': '🧐',\n",
              " ':face_with_open_eyes_and_hand_over_mouth:': '\\U0001fae2',\n",
              " ':face_with_open_mouth:': '😮',\n",
              " ':face_with_peeking_eye:': '\\U0001fae3',\n",
              " ':face_with_raised_eyebrow:': '🤨',\n",
              " ':face_with_rolling_eyes:': '🙄',\n",
              " ':face_with_spiral_eyes:': '😵\\u200d💫',\n",
              " ':face_with_steam_from_nose:': '😤',\n",
              " ':face_with_symbols_on_mouth:': '🤬',\n",
              " ':face_with_tears_of_joy:': '😂',\n",
              " ':face_with_thermometer:': '🤒',\n",
              " ':face_with_tongue:': '😛',\n",
              " ':face_without_mouth:': '😶',\n",
              " ':factory:': '🏭',\n",
              " ':factory_worker:': '🧑\\u200d🏭',\n",
              " ':factory_worker_dark_skin_tone:': '🧑🏿\\u200d🏭',\n",
              " ':factory_worker_light_skin_tone:': '🧑🏻\\u200d🏭',\n",
              " ':factory_worker_medium-dark_skin_tone:': '🧑🏾\\u200d🏭',\n",
              " ':factory_worker_medium-light_skin_tone:': '🧑🏼\\u200d🏭',\n",
              " ':factory_worker_medium_skin_tone:': '🧑🏽\\u200d🏭',\n",
              " ':fairy:': '🧚',\n",
              " ':fairy_dark_skin_tone:': '🧚🏿',\n",
              " ':fairy_light_skin_tone:': '🧚🏻',\n",
              " ':fairy_medium-dark_skin_tone:': '🧚🏾',\n",
              " ':fairy_medium-light_skin_tone:': '🧚🏼',\n",
              " ':fairy_medium_skin_tone:': '🧚🏽',\n",
              " ':falafel:': '\\U0001f9c6',\n",
              " ':fallen_leaf:': '🍂',\n",
              " ':family:': '👪',\n",
              " ':family_man_boy:': '👨\\u200d👦',\n",
              " ':family_man_boy_boy:': '👨\\u200d👦\\u200d👦',\n",
              " ':family_man_girl:': '👨\\u200d👧',\n",
              " ':family_man_girl_boy:': '👨\\u200d👧\\u200d👦',\n",
              " ':family_man_girl_girl:': '👨\\u200d👧\\u200d👧',\n",
              " ':family_man_man_boy:': '👨\\u200d👨\\u200d👦',\n",
              " ':family_man_man_boy_boy:': '👨\\u200d👨\\u200d👦\\u200d👦',\n",
              " ':family_man_man_girl:': '👨\\u200d👨\\u200d👧',\n",
              " ':family_man_man_girl_boy:': '👨\\u200d👨\\u200d👧\\u200d👦',\n",
              " ':family_man_man_girl_girl:': '👨\\u200d👨\\u200d👧\\u200d👧',\n",
              " ':family_man_woman_boy:': '👨\\u200d👩\\u200d👦',\n",
              " ':family_man_woman_boy_boy:': '👨\\u200d👩\\u200d👦\\u200d👦',\n",
              " ':family_man_woman_girl:': '👨\\u200d👩\\u200d👧',\n",
              " ':family_man_woman_girl_boy:': '👨\\u200d👩\\u200d👧\\u200d👦',\n",
              " ':family_man_woman_girl_girl:': '👨\\u200d👩\\u200d👧\\u200d👧',\n",
              " ':family_woman_boy:': '👩\\u200d👦',\n",
              " ':family_woman_boy_boy:': '👩\\u200d👦\\u200d👦',\n",
              " ':family_woman_girl:': '👩\\u200d👧',\n",
              " ':family_woman_girl_boy:': '👩\\u200d👧\\u200d👦',\n",
              " ':family_woman_girl_girl:': '👩\\u200d👧\\u200d👧',\n",
              " ':family_woman_woman_boy:': '👩\\u200d👩\\u200d👦',\n",
              " ':family_woman_woman_boy_boy:': '👩\\u200d👩\\u200d👦\\u200d👦',\n",
              " ':family_woman_woman_girl:': '👩\\u200d👩\\u200d👧',\n",
              " ':family_woman_woman_girl_boy:': '👩\\u200d👩\\u200d👧\\u200d👦',\n",
              " ':family_woman_woman_girl_girl:': '👩\\u200d👩\\u200d👧\\u200d👧',\n",
              " ':farmer:': '🧑\\u200d🌾',\n",
              " ':farmer_dark_skin_tone:': '🧑🏿\\u200d🌾',\n",
              " ':farmer_light_skin_tone:': '🧑🏻\\u200d🌾',\n",
              " ':farmer_medium-dark_skin_tone:': '🧑🏾\\u200d🌾',\n",
              " ':farmer_medium-light_skin_tone:': '🧑🏼\\u200d🌾',\n",
              " ':farmer_medium_skin_tone:': '🧑🏽\\u200d🌾',\n",
              " ':fast-forward_button:': '⏩',\n",
              " ':fast_down_button:': '⏬',\n",
              " ':fast_reverse_button:': '⏪',\n",
              " ':fast_up_button:': '⏫',\n",
              " ':fax_machine:': '📠',\n",
              " ':fearful_face:': '😨',\n",
              " ':feather:': '\\U0001fab6',\n",
              " ':female_sign:': '♀️',\n",
              " ...}"
            ]
          },
          "metadata": {},
          "execution_count": 4
        }
      ]
    },
    {
      "cell_type": "code",
      "source": [
        "emoji.emojize(':baseball:')"
      ],
      "metadata": {
        "colab": {
          "base_uri": "https://localhost:8080/",
          "height": 35
        },
        "id": "d8LivH6w6EmX",
        "outputId": "88420d65-55a5-4c59-b410-60ead7e201e0"
      },
      "execution_count": 5,
      "outputs": [
        {
          "output_type": "execute_result",
          "data": {
            "application/vnd.google.colaboratory.intrinsic+json": {
              "type": "string"
            },
            "text/plain": [
              "'⚾'"
            ]
          },
          "metadata": {},
          "execution_count": 5
        }
      ]
    },
    {
      "cell_type": "code",
      "source": [
        "emoji_dict = {      \"0\": \"\\u2764\\uFE0F\",    \n",
        "                    \"1\": \":basketball:\",\n",
        "                    \"2\": \":beaming_face_with_smiling_eyes:\",\n",
        "                    \"3\": \":downcast_face_with_sweat:\",\n",
        "                    \"4\": \":fork_and_knife:\",\n",
        "             }"
      ],
      "metadata": {
        "id": "nsGhHkyO6NaX"
      },
      "execution_count": 8,
      "outputs": []
    },
    {
      "cell_type": "code",
      "source": [
        "for e in emoji_dict.values():\n",
        "    print(emoji.emojize(e))"
      ],
      "metadata": {
        "colab": {
          "base_uri": "https://localhost:8080/"
        },
        "id": "RG05FZ636tMo",
        "outputId": "27aedf08-f508-44dc-ea2c-561880d6e776"
      },
      "execution_count": 9,
      "outputs": [
        {
          "output_type": "stream",
          "name": "stdout",
          "text": [
            "❤️\n",
            "🏀\n",
            "😁\n",
            "😓\n",
            "🍴\n"
          ]
        }
      ]
    },
    {
      "cell_type": "markdown",
      "source": [
        "#Read Data"
      ],
      "metadata": {
        "id": "TN_G2QtS7DvA"
      }
    },
    {
      "cell_type": "code",
      "source": [
        "import pandas as pd"
      ],
      "metadata": {
        "id": "ycgIP5gH7IFO"
      },
      "execution_count": 10,
      "outputs": []
    },
    {
      "cell_type": "code",
      "source": [
        "train  = pd.read_csv(\"/content/train_emoji.csv\", header = None)\n",
        "test = pd.read_csv(\"/content/test_emoji.csv\", header=None)"
      ],
      "metadata": {
        "id": "4tafz6577KYu"
      },
      "execution_count": 12,
      "outputs": []
    },
    {
      "cell_type": "code",
      "source": [
        "train.drop(columns=[2,3], inplace=True)"
      ],
      "metadata": {
        "id": "DvRnLH8q7Neu"
      },
      "execution_count": 13,
      "outputs": []
    },
    {
      "cell_type": "code",
      "source": [
        "train.columns = ['Text', 'Label']\n",
        "test.columns = ['Text', 'Label']"
      ],
      "metadata": {
        "id": "Yc2CFisy7cdc"
      },
      "execution_count": 14,
      "outputs": []
    },
    {
      "cell_type": "code",
      "source": [
        "train.head()"
      ],
      "metadata": {
        "colab": {
          "base_uri": "https://localhost:8080/",
          "height": 206
        },
        "id": "fKgbBkWi7fQe",
        "outputId": "4c9d2336-5dde-47ce-e1da-1576bc1e7642"
      },
      "execution_count": 15,
      "outputs": [
        {
          "output_type": "execute_result",
          "data": {
            "text/html": [
              "\n",
              "  <div id=\"df-34e3661d-67c7-422d-962c-6181883307b9\">\n",
              "    <div class=\"colab-df-container\">\n",
              "      <div>\n",
              "<style scoped>\n",
              "    .dataframe tbody tr th:only-of-type {\n",
              "        vertical-align: middle;\n",
              "    }\n",
              "\n",
              "    .dataframe tbody tr th {\n",
              "        vertical-align: top;\n",
              "    }\n",
              "\n",
              "    .dataframe thead th {\n",
              "        text-align: right;\n",
              "    }\n",
              "</style>\n",
              "<table border=\"1\" class=\"dataframe\">\n",
              "  <thead>\n",
              "    <tr style=\"text-align: right;\">\n",
              "      <th></th>\n",
              "      <th>Text</th>\n",
              "      <th>Label</th>\n",
              "    </tr>\n",
              "  </thead>\n",
              "  <tbody>\n",
              "    <tr>\n",
              "      <th>0</th>\n",
              "      <td>never talk to me again</td>\n",
              "      <td>3</td>\n",
              "    </tr>\n",
              "    <tr>\n",
              "      <th>1</th>\n",
              "      <td>I am proud of your achievements</td>\n",
              "      <td>2</td>\n",
              "    </tr>\n",
              "    <tr>\n",
              "      <th>2</th>\n",
              "      <td>It is the worst day in my life</td>\n",
              "      <td>3</td>\n",
              "    </tr>\n",
              "    <tr>\n",
              "      <th>3</th>\n",
              "      <td>Miss you so much</td>\n",
              "      <td>0</td>\n",
              "    </tr>\n",
              "    <tr>\n",
              "      <th>4</th>\n",
              "      <td>food is life</td>\n",
              "      <td>4</td>\n",
              "    </tr>\n",
              "  </tbody>\n",
              "</table>\n",
              "</div>\n",
              "      <button class=\"colab-df-convert\" onclick=\"convertToInteractive('df-34e3661d-67c7-422d-962c-6181883307b9')\"\n",
              "              title=\"Convert this dataframe to an interactive table.\"\n",
              "              style=\"display:none;\">\n",
              "        \n",
              "  <svg xmlns=\"http://www.w3.org/2000/svg\" height=\"24px\"viewBox=\"0 0 24 24\"\n",
              "       width=\"24px\">\n",
              "    <path d=\"M0 0h24v24H0V0z\" fill=\"none\"/>\n",
              "    <path d=\"M18.56 5.44l.94 2.06.94-2.06 2.06-.94-2.06-.94-.94-2.06-.94 2.06-2.06.94zm-11 1L8.5 8.5l.94-2.06 2.06-.94-2.06-.94L8.5 2.5l-.94 2.06-2.06.94zm10 10l.94 2.06.94-2.06 2.06-.94-2.06-.94-.94-2.06-.94 2.06-2.06.94z\"/><path d=\"M17.41 7.96l-1.37-1.37c-.4-.4-.92-.59-1.43-.59-.52 0-1.04.2-1.43.59L10.3 9.45l-7.72 7.72c-.78.78-.78 2.05 0 2.83L4 21.41c.39.39.9.59 1.41.59.51 0 1.02-.2 1.41-.59l7.78-7.78 2.81-2.81c.8-.78.8-2.07 0-2.86zM5.41 20L4 18.59l7.72-7.72 1.47 1.35L5.41 20z\"/>\n",
              "  </svg>\n",
              "      </button>\n",
              "      \n",
              "  <style>\n",
              "    .colab-df-container {\n",
              "      display:flex;\n",
              "      flex-wrap:wrap;\n",
              "      gap: 12px;\n",
              "    }\n",
              "\n",
              "    .colab-df-convert {\n",
              "      background-color: #E8F0FE;\n",
              "      border: none;\n",
              "      border-radius: 50%;\n",
              "      cursor: pointer;\n",
              "      display: none;\n",
              "      fill: #1967D2;\n",
              "      height: 32px;\n",
              "      padding: 0 0 0 0;\n",
              "      width: 32px;\n",
              "    }\n",
              "\n",
              "    .colab-df-convert:hover {\n",
              "      background-color: #E2EBFA;\n",
              "      box-shadow: 0px 1px 2px rgba(60, 64, 67, 0.3), 0px 1px 3px 1px rgba(60, 64, 67, 0.15);\n",
              "      fill: #174EA6;\n",
              "    }\n",
              "\n",
              "    [theme=dark] .colab-df-convert {\n",
              "      background-color: #3B4455;\n",
              "      fill: #D2E3FC;\n",
              "    }\n",
              "\n",
              "    [theme=dark] .colab-df-convert:hover {\n",
              "      background-color: #434B5C;\n",
              "      box-shadow: 0px 1px 3px 1px rgba(0, 0, 0, 0.15);\n",
              "      filter: drop-shadow(0px 1px 2px rgba(0, 0, 0, 0.3));\n",
              "      fill: #FFFFFF;\n",
              "    }\n",
              "  </style>\n",
              "\n",
              "      <script>\n",
              "        const buttonEl =\n",
              "          document.querySelector('#df-34e3661d-67c7-422d-962c-6181883307b9 button.colab-df-convert');\n",
              "        buttonEl.style.display =\n",
              "          google.colab.kernel.accessAllowed ? 'block' : 'none';\n",
              "\n",
              "        async function convertToInteractive(key) {\n",
              "          const element = document.querySelector('#df-34e3661d-67c7-422d-962c-6181883307b9');\n",
              "          const dataTable =\n",
              "            await google.colab.kernel.invokeFunction('convertToInteractive',\n",
              "                                                     [key], {});\n",
              "          if (!dataTable) return;\n",
              "\n",
              "          const docLinkHtml = 'Like what you see? Visit the ' +\n",
              "            '<a target=\"_blank\" href=https://colab.research.google.com/notebooks/data_table.ipynb>data table notebook</a>'\n",
              "            + ' to learn more about interactive tables.';\n",
              "          element.innerHTML = '';\n",
              "          dataTable['output_type'] = 'display_data';\n",
              "          await google.colab.output.renderOutput(dataTable, element);\n",
              "          const docLink = document.createElement('div');\n",
              "          docLink.innerHTML = docLinkHtml;\n",
              "          element.appendChild(docLink);\n",
              "        }\n",
              "      </script>\n",
              "    </div>\n",
              "  </div>\n",
              "  "
            ],
            "text/plain": [
              "                              Text  Label\n",
              "0           never talk to me again      3\n",
              "1  I am proud of your achievements      2\n",
              "2   It is the worst day in my life      3\n",
              "3                 Miss you so much      0\n",
              "4                     food is life      4"
            ]
          },
          "metadata": {},
          "execution_count": 15
        }
      ]
    },
    {
      "cell_type": "code",
      "source": [
        "test['Text']  = test['Text'].apply(lambda x : x[:-1])"
      ],
      "metadata": {
        "id": "lrF_ghYq7ixu"
      },
      "execution_count": 16,
      "outputs": []
    },
    {
      "cell_type": "code",
      "source": [
        "test.head()"
      ],
      "metadata": {
        "colab": {
          "base_uri": "https://localhost:8080/",
          "height": 206
        },
        "id": "Ss4ls0T_7l63",
        "outputId": "c6acd7b5-1792-4a03-cb58-9121a34b0092"
      },
      "execution_count": 17,
      "outputs": [
        {
          "output_type": "execute_result",
          "data": {
            "text/html": [
              "\n",
              "  <div id=\"df-538951bd-7346-432c-95cb-69a32f496a7f\">\n",
              "    <div class=\"colab-df-container\">\n",
              "      <div>\n",
              "<style scoped>\n",
              "    .dataframe tbody tr th:only-of-type {\n",
              "        vertical-align: middle;\n",
              "    }\n",
              "\n",
              "    .dataframe tbody tr th {\n",
              "        vertical-align: top;\n",
              "    }\n",
              "\n",
              "    .dataframe thead th {\n",
              "        text-align: right;\n",
              "    }\n",
              "</style>\n",
              "<table border=\"1\" class=\"dataframe\">\n",
              "  <thead>\n",
              "    <tr style=\"text-align: right;\">\n",
              "      <th></th>\n",
              "      <th>Text</th>\n",
              "      <th>Label</th>\n",
              "    </tr>\n",
              "  </thead>\n",
              "  <tbody>\n",
              "    <tr>\n",
              "      <th>0</th>\n",
              "      <td>I want to eat</td>\n",
              "      <td>4</td>\n",
              "    </tr>\n",
              "    <tr>\n",
              "      <th>1</th>\n",
              "      <td>he did not answer</td>\n",
              "      <td>3</td>\n",
              "    </tr>\n",
              "    <tr>\n",
              "      <th>2</th>\n",
              "      <td>he got a raise</td>\n",
              "      <td>2</td>\n",
              "    </tr>\n",
              "    <tr>\n",
              "      <th>3</th>\n",
              "      <td>she got me a present</td>\n",
              "      <td>0</td>\n",
              "    </tr>\n",
              "    <tr>\n",
              "      <th>4</th>\n",
              "      <td>ha ha ha it was so funny</td>\n",
              "      <td>2</td>\n",
              "    </tr>\n",
              "  </tbody>\n",
              "</table>\n",
              "</div>\n",
              "      <button class=\"colab-df-convert\" onclick=\"convertToInteractive('df-538951bd-7346-432c-95cb-69a32f496a7f')\"\n",
              "              title=\"Convert this dataframe to an interactive table.\"\n",
              "              style=\"display:none;\">\n",
              "        \n",
              "  <svg xmlns=\"http://www.w3.org/2000/svg\" height=\"24px\"viewBox=\"0 0 24 24\"\n",
              "       width=\"24px\">\n",
              "    <path d=\"M0 0h24v24H0V0z\" fill=\"none\"/>\n",
              "    <path d=\"M18.56 5.44l.94 2.06.94-2.06 2.06-.94-2.06-.94-.94-2.06-.94 2.06-2.06.94zm-11 1L8.5 8.5l.94-2.06 2.06-.94-2.06-.94L8.5 2.5l-.94 2.06-2.06.94zm10 10l.94 2.06.94-2.06 2.06-.94-2.06-.94-.94-2.06-.94 2.06-2.06.94z\"/><path d=\"M17.41 7.96l-1.37-1.37c-.4-.4-.92-.59-1.43-.59-.52 0-1.04.2-1.43.59L10.3 9.45l-7.72 7.72c-.78.78-.78 2.05 0 2.83L4 21.41c.39.39.9.59 1.41.59.51 0 1.02-.2 1.41-.59l7.78-7.78 2.81-2.81c.8-.78.8-2.07 0-2.86zM5.41 20L4 18.59l7.72-7.72 1.47 1.35L5.41 20z\"/>\n",
              "  </svg>\n",
              "      </button>\n",
              "      \n",
              "  <style>\n",
              "    .colab-df-container {\n",
              "      display:flex;\n",
              "      flex-wrap:wrap;\n",
              "      gap: 12px;\n",
              "    }\n",
              "\n",
              "    .colab-df-convert {\n",
              "      background-color: #E8F0FE;\n",
              "      border: none;\n",
              "      border-radius: 50%;\n",
              "      cursor: pointer;\n",
              "      display: none;\n",
              "      fill: #1967D2;\n",
              "      height: 32px;\n",
              "      padding: 0 0 0 0;\n",
              "      width: 32px;\n",
              "    }\n",
              "\n",
              "    .colab-df-convert:hover {\n",
              "      background-color: #E2EBFA;\n",
              "      box-shadow: 0px 1px 2px rgba(60, 64, 67, 0.3), 0px 1px 3px 1px rgba(60, 64, 67, 0.15);\n",
              "      fill: #174EA6;\n",
              "    }\n",
              "\n",
              "    [theme=dark] .colab-df-convert {\n",
              "      background-color: #3B4455;\n",
              "      fill: #D2E3FC;\n",
              "    }\n",
              "\n",
              "    [theme=dark] .colab-df-convert:hover {\n",
              "      background-color: #434B5C;\n",
              "      box-shadow: 0px 1px 3px 1px rgba(0, 0, 0, 0.15);\n",
              "      filter: drop-shadow(0px 1px 2px rgba(0, 0, 0, 0.3));\n",
              "      fill: #FFFFFF;\n",
              "    }\n",
              "  </style>\n",
              "\n",
              "      <script>\n",
              "        const buttonEl =\n",
              "          document.querySelector('#df-538951bd-7346-432c-95cb-69a32f496a7f button.colab-df-convert');\n",
              "        buttonEl.style.display =\n",
              "          google.colab.kernel.accessAllowed ? 'block' : 'none';\n",
              "\n",
              "        async function convertToInteractive(key) {\n",
              "          const element = document.querySelector('#df-538951bd-7346-432c-95cb-69a32f496a7f');\n",
              "          const dataTable =\n",
              "            await google.colab.kernel.invokeFunction('convertToInteractive',\n",
              "                                                     [key], {});\n",
              "          if (!dataTable) return;\n",
              "\n",
              "          const docLinkHtml = 'Like what you see? Visit the ' +\n",
              "            '<a target=\"_blank\" href=https://colab.research.google.com/notebooks/data_table.ipynb>data table notebook</a>'\n",
              "            + ' to learn more about interactive tables.';\n",
              "          element.innerHTML = '';\n",
              "          dataTable['output_type'] = 'display_data';\n",
              "          await google.colab.output.renderOutput(dataTable, element);\n",
              "          const docLink = document.createElement('div');\n",
              "          docLink.innerHTML = docLinkHtml;\n",
              "          element.appendChild(docLink);\n",
              "        }\n",
              "      </script>\n",
              "    </div>\n",
              "  </div>\n",
              "  "
            ],
            "text/plain": [
              "                       Text  Label\n",
              "0             I want to eat      4\n",
              "1         he did not answer      3\n",
              "2            he got a raise      2\n",
              "3      she got me a present      0\n",
              "4  ha ha ha it was so funny      2"
            ]
          },
          "metadata": {},
          "execution_count": 17
        }
      ]
    },
    {
      "cell_type": "code",
      "source": [
        "X_train = train['Text'].values\n",
        "y_train = train['Label'].values\n",
        "\n",
        "X_test = test['Text'].values\n",
        "y_test = test['Label'].values"
      ],
      "metadata": {
        "id": "brIavFkL7pUH"
      },
      "execution_count": 18,
      "outputs": []
    },
    {
      "cell_type": "code",
      "source": [
        "X_train[:5]"
      ],
      "metadata": {
        "colab": {
          "base_uri": "https://localhost:8080/"
        },
        "id": "AnqEzfxv7wZA",
        "outputId": "60cce544-8b3a-4f26-c0b9-fe73aa3a28e4"
      },
      "execution_count": 19,
      "outputs": [
        {
          "output_type": "execute_result",
          "data": {
            "text/plain": [
              "array(['never talk to me again', 'I am proud of your achievements',\n",
              "       'It is the worst day in my life', 'Miss you so much',\n",
              "       'food is life'], dtype=object)"
            ]
          },
          "metadata": {},
          "execution_count": 19
        }
      ]
    },
    {
      "cell_type": "code",
      "source": [
        "y_train"
      ],
      "metadata": {
        "colab": {
          "base_uri": "https://localhost:8080/"
        },
        "id": "iEdkmbz47ykV",
        "outputId": "fdaf43b0-cb84-4229-d63b-f4a541826a8a"
      },
      "execution_count": 20,
      "outputs": [
        {
          "output_type": "execute_result",
          "data": {
            "text/plain": [
              "array([3, 2, 3, 0, 4, 0, 3, 2, 3, 1, 3, 3, 1, 3, 2, 3, 2, 3, 1, 2, 3, 0,\n",
              "       2, 2, 2, 1, 4, 2, 2, 4, 0, 3, 4, 2, 0, 3, 2, 2, 3, 4, 2, 2, 0, 2,\n",
              "       3, 0, 3, 2, 4, 3, 0, 3, 3, 3, 4, 2, 1, 1, 1, 2, 3, 1, 0, 0, 0, 3,\n",
              "       4, 4, 2, 2, 1, 2, 0, 3, 2, 2, 0, 0, 3, 1, 2, 1, 2, 2, 4, 3, 3, 2,\n",
              "       4, 0, 0, 0, 3, 3, 3, 2, 0, 1, 2, 3, 0, 2, 2, 2, 3, 2, 2, 2, 4, 1,\n",
              "       1, 3, 3, 4, 1, 2, 1, 1, 3, 1, 0, 4, 0, 3, 3, 4, 4, 1, 4, 3, 0, 2])"
            ]
          },
          "metadata": {},
          "execution_count": 20
        }
      ]
    },
    {
      "cell_type": "code",
      "source": [
        "X_train.shape, y_train.shape"
      ],
      "metadata": {
        "colab": {
          "base_uri": "https://localhost:8080/"
        },
        "id": "ItqD4RaH70rd",
        "outputId": "1fcbe197-0e36-42f8-b144-1ed3d3e75dd0"
      },
      "execution_count": 21,
      "outputs": [
        {
          "output_type": "execute_result",
          "data": {
            "text/plain": [
              "((132,), (132,))"
            ]
          },
          "metadata": {},
          "execution_count": 21
        }
      ]
    },
    {
      "cell_type": "code",
      "source": [
        "X_test.shape, y_test.shape"
      ],
      "metadata": {
        "colab": {
          "base_uri": "https://localhost:8080/"
        },
        "id": "9ZGaTKJS73A-",
        "outputId": "d7d60df3-b301-4703-ffb3-c3cf64b75001"
      },
      "execution_count": 22,
      "outputs": [
        {
          "output_type": "execute_result",
          "data": {
            "text/plain": [
              "((56,), (56,))"
            ]
          },
          "metadata": {},
          "execution_count": 22
        }
      ]
    },
    {
      "cell_type": "code",
      "source": [
        "for i in range(15, 23):\n",
        "    print(X_train[i], emoji.emojize( emoji_dict[str(y_train[i])]) )"
      ],
      "metadata": {
        "colab": {
          "base_uri": "https://localhost:8080/"
        },
        "id": "pkOcdRDu75L9",
        "outputId": "6a6dded8-09d0-43dd-f9a2-e204dd875836"
      },
      "execution_count": 23,
      "outputs": [
        {
          "output_type": "stream",
          "name": "stdout",
          "text": [
            "Stop shouting at me 😓\n",
            "Sounds like a fun plan ha ha 😁\n",
            "no one likes him 😓\n",
            "the game just finished 🏀\n",
            "I will celebrate soon 😁\n",
            "So sad you are not coming 😓\n",
            "She is my dearest love ❤️\n",
            "Good job 😁\n"
          ]
        }
      ]
    },
    {
      "cell_type": "markdown",
      "source": [
        "#Get Embedding "
      ],
      "metadata": {
        "id": "pIzGOWPC7_38"
      }
    },
    {
      "cell_type": "code",
      "source": [
        "import numpy as np"
      ],
      "metadata": {
        "id": "2gEKUt-l8CK2"
      },
      "execution_count": 24,
      "outputs": []
    },
    {
      "cell_type": "code",
      "source": [
        "!wget http://nlp.stanford.edu/data/glove.6B.zip"
      ],
      "metadata": {
        "colab": {
          "base_uri": "https://localhost:8080/"
        },
        "id": "6miO5pgr8ERu",
        "outputId": "1c5361a0-94dd-410b-ea82-60be4b95f3bd"
      },
      "execution_count": 26,
      "outputs": [
        {
          "output_type": "stream",
          "name": "stdout",
          "text": [
            "--2022-01-02 08:40:03--  http://nlp.stanford.edu/data/glove.6B.zip\n",
            "Resolving nlp.stanford.edu (nlp.stanford.edu)... 171.64.67.140\n",
            "Connecting to nlp.stanford.edu (nlp.stanford.edu)|171.64.67.140|:80... connected.\n",
            "HTTP request sent, awaiting response... 302 Found\n",
            "Location: https://nlp.stanford.edu/data/glove.6B.zip [following]\n",
            "--2022-01-02 08:40:04--  https://nlp.stanford.edu/data/glove.6B.zip\n",
            "Connecting to nlp.stanford.edu (nlp.stanford.edu)|171.64.67.140|:443... connected.\n",
            "HTTP request sent, awaiting response... 301 Moved Permanently\n",
            "Location: http://downloads.cs.stanford.edu/nlp/data/glove.6B.zip [following]\n",
            "--2022-01-02 08:40:04--  http://downloads.cs.stanford.edu/nlp/data/glove.6B.zip\n",
            "Resolving downloads.cs.stanford.edu (downloads.cs.stanford.edu)... 171.64.64.22\n",
            "Connecting to downloads.cs.stanford.edu (downloads.cs.stanford.edu)|171.64.64.22|:80... connected.\n",
            "HTTP request sent, awaiting response... 200 OK\n",
            "Length: 862182613 (822M) [application/zip]\n",
            "Saving to: ‘glove.6B.zip’\n",
            "\n",
            "glove.6B.zip        100%[===================>] 822.24M  5.02MB/s    in 2m 42s  \n",
            "\n",
            "2022-01-02 08:42:46 (5.08 MB/s) - ‘glove.6B.zip’ saved [862182613/862182613]\n",
            "\n"
          ]
        }
      ]
    },
    {
      "cell_type": "code",
      "source": [
        "!unzip glove*.zip"
      ],
      "metadata": {
        "colab": {
          "base_uri": "https://localhost:8080/"
        },
        "id": "aaix603x8Gjd",
        "outputId": "04b4d723-6824-4b64-edbc-cbaa6ad2ac59"
      },
      "execution_count": 27,
      "outputs": [
        {
          "output_type": "stream",
          "name": "stdout",
          "text": [
            "Archive:  glove.6B.zip\n",
            "  inflating: glove.6B.50d.txt        \n",
            "  inflating: glove.6B.100d.txt       \n",
            "  inflating: glove.6B.200d.txt       \n",
            "  inflating: glove.6B.300d.txt       \n"
          ]
        }
      ]
    },
    {
      "cell_type": "code",
      "source": [
        "f = open(\"glove.6B.50d.txt\", encoding='utf8')"
      ],
      "metadata": {
        "id": "qL9xL9zh-S_Q"
      },
      "execution_count": 28,
      "outputs": []
    },
    {
      "cell_type": "code",
      "source": [
        "embedding_matrix = {}"
      ],
      "metadata": {
        "id": "IlT5D8NH-aHG"
      },
      "execution_count": 29,
      "outputs": []
    },
    {
      "cell_type": "code",
      "source": [
        "for line in f:\n",
        "    \n",
        "    values = line.split()\n",
        "    word = values[0]\n",
        "    emb = np.array(values[1:], dtype='float')\n",
        "    \n",
        "    embedding_matrix[word] = emb"
      ],
      "metadata": {
        "id": "O4s3LWIs-ciW"
      },
      "execution_count": 30,
      "outputs": []
    },
    {
      "cell_type": "code",
      "source": [
        "embedding_matrix['the'].shape"
      ],
      "metadata": {
        "colab": {
          "base_uri": "https://localhost:8080/"
        },
        "id": "-_frYEOv-efu",
        "outputId": "4803dec6-550d-4189-d985-f44e81cb87f5"
      },
      "execution_count": 32,
      "outputs": [
        {
          "output_type": "execute_result",
          "data": {
            "text/plain": [
              "(50,)"
            ]
          },
          "metadata": {},
          "execution_count": 32
        }
      ]
    },
    {
      "cell_type": "code",
      "source": [
        "def get_embedding_matrix_for_data(data):\n",
        "    maxLen = 10\n",
        "    embedding_data = np.zeros( (len(data), maxLen, 50) )\n",
        "    \n",
        "    for ix in range(data.shape[0]):\n",
        "        words_in_sen = data[ix].split()\n",
        "        \n",
        "        for ij in range(len(words_in_sen)):\n",
        "            if embedding_matrix.get(words_in_sen[ij].lower()) is not None:\n",
        "                embedding_data[ix][ij] =  embedding_matrix[words_in_sen[ij].lower()]\n",
        "        \n",
        "    return embedding_data"
      ],
      "metadata": {
        "id": "2SEhDT6_-g7d"
      },
      "execution_count": 33,
      "outputs": []
    },
    {
      "cell_type": "code",
      "source": [
        "X_train = get_embedding_matrix_for_data(X_train)"
      ],
      "metadata": {
        "id": "S_77KL1Y-msu"
      },
      "execution_count": 34,
      "outputs": []
    },
    {
      "cell_type": "code",
      "source": [
        "X_test = get_embedding_matrix_for_data(X_test)"
      ],
      "metadata": {
        "id": "I2ZGi-HP-o5m"
      },
      "execution_count": 35,
      "outputs": []
    },
    {
      "cell_type": "code",
      "source": [
        "X_train.shape"
      ],
      "metadata": {
        "colab": {
          "base_uri": "https://localhost:8080/"
        },
        "id": "SRCQhSsV-rAG",
        "outputId": "06502e31-9373-4998-eae4-51ba4273a568"
      },
      "execution_count": 36,
      "outputs": [
        {
          "output_type": "execute_result",
          "data": {
            "text/plain": [
              "(132, 10, 50)"
            ]
          },
          "metadata": {},
          "execution_count": 36
        }
      ]
    },
    {
      "cell_type": "code",
      "source": [
        "X_test.shape"
      ],
      "metadata": {
        "colab": {
          "base_uri": "https://localhost:8080/"
        },
        "id": "7WqcFlWX-s2O",
        "outputId": "b0b8311c-2697-4d9a-f81a-124b8c7cd4f0"
      },
      "execution_count": 37,
      "outputs": [
        {
          "output_type": "execute_result",
          "data": {
            "text/plain": [
              "(56, 10, 50)"
            ]
          },
          "metadata": {},
          "execution_count": 37
        }
      ]
    },
    {
      "cell_type": "code",
      "source": [
        "from tensorflow.keras.utils import to_categorical"
      ],
      "metadata": {
        "id": "0GfOgEkG-vG-"
      },
      "execution_count": 38,
      "outputs": []
    },
    {
      "cell_type": "code",
      "source": [
        "y_train = to_categorical(y_train)\n",
        "y_test = to_categorical(y_test)"
      ],
      "metadata": {
        "id": "JgkA3Ber-yY-"
      },
      "execution_count": 39,
      "outputs": []
    },
    {
      "cell_type": "code",
      "source": [
        "y_train.shape"
      ],
      "metadata": {
        "colab": {
          "base_uri": "https://localhost:8080/"
        },
        "id": "g6UZ3ZcA-1we",
        "outputId": "1c0693d3-0b7b-4b8a-c633-be7b1113ac6b"
      },
      "execution_count": 40,
      "outputs": [
        {
          "output_type": "execute_result",
          "data": {
            "text/plain": [
              "(132, 5)"
            ]
          },
          "metadata": {},
          "execution_count": 40
        }
      ]
    },
    {
      "cell_type": "code",
      "source": [
        "y_test.shape"
      ],
      "metadata": {
        "colab": {
          "base_uri": "https://localhost:8080/"
        },
        "id": "fhovrn2M-3sO",
        "outputId": "bcc0fea7-1be4-4639-cc26-5d51f54645e9"
      },
      "execution_count": 41,
      "outputs": [
        {
          "output_type": "execute_result",
          "data": {
            "text/plain": [
              "(56, 5)"
            ]
          },
          "metadata": {},
          "execution_count": 41
        }
      ]
    },
    {
      "cell_type": "markdown",
      "source": [
        "#RNN/LSTM Model"
      ],
      "metadata": {
        "id": "KUtvERrg-8U0"
      }
    },
    {
      "cell_type": "code",
      "source": [
        "from tensorflow.keras.models import Sequential\n",
        "from tensorflow.keras.layers import LSTM, SimpleRNN, Dense, Dropout"
      ],
      "metadata": {
        "id": "dBbg-x2Y_CBk"
      },
      "execution_count": 42,
      "outputs": []
    },
    {
      "cell_type": "code",
      "source": [
        "model = Sequential()\n",
        "model.add( LSTM(units=64, input_shape=(10,50), return_sequences = True ) )\n",
        "model.add( Dropout(0.3) )\n",
        "model.add( LSTM(units=32) )\n",
        "model.add(Dropout(0.2))\n",
        "model.add(Dense(units=10, activation = 'relu'))\n",
        "model.add(Dense(units=5, activation='softmax'))\n",
        "model.summary()"
      ],
      "metadata": {
        "colab": {
          "base_uri": "https://localhost:8080/"
        },
        "id": "i3I7Bzqj_D-t",
        "outputId": "9997c9a1-0dd5-4fbc-a168-cbb5f91475ca"
      },
      "execution_count": 43,
      "outputs": [
        {
          "output_type": "stream",
          "name": "stdout",
          "text": [
            "Model: \"sequential\"\n",
            "_________________________________________________________________\n",
            " Layer (type)                Output Shape              Param #   \n",
            "=================================================================\n",
            " lstm (LSTM)                 (None, 10, 64)            29440     \n",
            "                                                                 \n",
            " dropout (Dropout)           (None, 10, 64)            0         \n",
            "                                                                 \n",
            " lstm_1 (LSTM)               (None, 32)                12416     \n",
            "                                                                 \n",
            " dropout_1 (Dropout)         (None, 32)                0         \n",
            "                                                                 \n",
            " dense (Dense)               (None, 10)                330       \n",
            "                                                                 \n",
            " dense_1 (Dense)             (None, 5)                 55        \n",
            "                                                                 \n",
            "=================================================================\n",
            "Total params: 42,241\n",
            "Trainable params: 42,241\n",
            "Non-trainable params: 0\n",
            "_________________________________________________________________\n"
          ]
        }
      ]
    },
    {
      "cell_type": "code",
      "source": [
        "model.compile(optimizer='adam', loss='categorical_crossentropy', metrics= ['accuracy'])"
      ],
      "metadata": {
        "id": "Meqxaw6i_F11"
      },
      "execution_count": 44,
      "outputs": []
    },
    {
      "cell_type": "code",
      "source": [
        "his = model.fit(X_train, y_train, validation_split=0.1, batch_size=32, epochs= 50 )"
      ],
      "metadata": {
        "colab": {
          "base_uri": "https://localhost:8080/"
        },
        "id": "afZ-NLvc_IUF",
        "outputId": "33977d86-5b48-43c4-e450-e99c0410ab24"
      },
      "execution_count": 45,
      "outputs": [
        {
          "output_type": "stream",
          "name": "stdout",
          "text": [
            "Epoch 1/50\n",
            "4/4 [==============================] - 9s 528ms/step - loss: 1.6041 - accuracy: 0.2288 - val_loss: 1.6158 - val_accuracy: 0.2857\n",
            "Epoch 2/50\n",
            "4/4 [==============================] - 0s 25ms/step - loss: 1.5670 - accuracy: 0.3390 - val_loss: 1.6200 - val_accuracy: 0.1429\n",
            "Epoch 3/50\n",
            "4/4 [==============================] - 0s 19ms/step - loss: 1.5333 - accuracy: 0.3814 - val_loss: 1.6165 - val_accuracy: 0.3571\n",
            "Epoch 4/50\n",
            "4/4 [==============================] - 0s 21ms/step - loss: 1.5133 - accuracy: 0.3898 - val_loss: 1.6036 - val_accuracy: 0.3571\n",
            "Epoch 5/50\n",
            "4/4 [==============================] - 0s 19ms/step - loss: 1.4732 - accuracy: 0.4237 - val_loss: 1.6349 - val_accuracy: 0.3571\n",
            "Epoch 6/50\n",
            "4/4 [==============================] - 0s 19ms/step - loss: 1.4507 - accuracy: 0.4576 - val_loss: 1.6613 - val_accuracy: 0.1429\n",
            "Epoch 7/50\n",
            "4/4 [==============================] - 0s 22ms/step - loss: 1.4144 - accuracy: 0.4492 - val_loss: 1.6074 - val_accuracy: 0.3571\n",
            "Epoch 8/50\n",
            "4/4 [==============================] - 0s 19ms/step - loss: 1.3731 - accuracy: 0.4831 - val_loss: 1.5822 - val_accuracy: 0.2857\n",
            "Epoch 9/50\n",
            "4/4 [==============================] - 0s 17ms/step - loss: 1.3136 - accuracy: 0.5000 - val_loss: 1.5636 - val_accuracy: 0.2857\n",
            "Epoch 10/50\n",
            "4/4 [==============================] - 0s 18ms/step - loss: 1.2438 - accuracy: 0.5254 - val_loss: 1.5606 - val_accuracy: 0.2857\n",
            "Epoch 11/50\n",
            "4/4 [==============================] - 0s 20ms/step - loss: 1.1562 - accuracy: 0.5339 - val_loss: 1.4887 - val_accuracy: 0.2857\n",
            "Epoch 12/50\n",
            "4/4 [==============================] - 0s 20ms/step - loss: 1.1153 - accuracy: 0.5339 - val_loss: 1.5757 - val_accuracy: 0.2857\n",
            "Epoch 13/50\n",
            "4/4 [==============================] - 0s 18ms/step - loss: 1.0641 - accuracy: 0.5508 - val_loss: 1.3646 - val_accuracy: 0.3571\n",
            "Epoch 14/50\n",
            "4/4 [==============================] - 0s 18ms/step - loss: 1.1600 - accuracy: 0.4915 - val_loss: 1.4989 - val_accuracy: 0.3571\n",
            "Epoch 15/50\n",
            "4/4 [==============================] - 0s 21ms/step - loss: 1.0348 - accuracy: 0.5593 - val_loss: 1.7720 - val_accuracy: 0.2143\n",
            "Epoch 16/50\n",
            "4/4 [==============================] - 0s 17ms/step - loss: 0.9329 - accuracy: 0.6610 - val_loss: 1.2827 - val_accuracy: 0.4286\n",
            "Epoch 17/50\n",
            "4/4 [==============================] - 0s 19ms/step - loss: 0.9082 - accuracy: 0.6271 - val_loss: 1.3059 - val_accuracy: 0.5714\n",
            "Epoch 18/50\n",
            "4/4 [==============================] - 0s 19ms/step - loss: 0.8553 - accuracy: 0.7203 - val_loss: 1.4691 - val_accuracy: 0.4286\n",
            "Epoch 19/50\n",
            "4/4 [==============================] - 0s 18ms/step - loss: 0.8123 - accuracy: 0.7119 - val_loss: 1.2013 - val_accuracy: 0.5714\n",
            "Epoch 20/50\n",
            "4/4 [==============================] - 0s 22ms/step - loss: 0.7497 - accuracy: 0.7373 - val_loss: 1.1487 - val_accuracy: 0.6429\n",
            "Epoch 21/50\n",
            "4/4 [==============================] - 0s 22ms/step - loss: 0.7342 - accuracy: 0.7797 - val_loss: 1.1724 - val_accuracy: 0.6429\n",
            "Epoch 22/50\n",
            "4/4 [==============================] - 0s 21ms/step - loss: 0.6159 - accuracy: 0.8644 - val_loss: 1.0807 - val_accuracy: 0.6429\n",
            "Epoch 23/50\n",
            "4/4 [==============================] - 0s 19ms/step - loss: 0.6039 - accuracy: 0.8220 - val_loss: 1.1458 - val_accuracy: 0.5714\n",
            "Epoch 24/50\n",
            "4/4 [==============================] - 0s 21ms/step - loss: 0.5946 - accuracy: 0.8390 - val_loss: 1.0209 - val_accuracy: 0.6429\n",
            "Epoch 25/50\n",
            "4/4 [==============================] - 0s 21ms/step - loss: 0.5284 - accuracy: 0.8983 - val_loss: 1.0187 - val_accuracy: 0.6429\n",
            "Epoch 26/50\n",
            "4/4 [==============================] - 0s 21ms/step - loss: 0.4860 - accuracy: 0.8898 - val_loss: 0.9946 - val_accuracy: 0.6429\n",
            "Epoch 27/50\n",
            "4/4 [==============================] - 0s 22ms/step - loss: 0.4728 - accuracy: 0.8644 - val_loss: 1.1538 - val_accuracy: 0.5000\n",
            "Epoch 28/50\n",
            "4/4 [==============================] - 0s 21ms/step - loss: 0.4081 - accuracy: 0.8983 - val_loss: 0.8648 - val_accuracy: 0.7857\n",
            "Epoch 29/50\n",
            "4/4 [==============================] - 0s 23ms/step - loss: 0.4590 - accuracy: 0.8814 - val_loss: 1.6843 - val_accuracy: 0.5714\n",
            "Epoch 30/50\n",
            "4/4 [==============================] - 0s 19ms/step - loss: 0.4362 - accuracy: 0.8814 - val_loss: 0.8201 - val_accuracy: 0.7857\n",
            "Epoch 31/50\n",
            "4/4 [==============================] - 0s 20ms/step - loss: 0.3593 - accuracy: 0.8983 - val_loss: 1.1109 - val_accuracy: 0.6429\n",
            "Epoch 32/50\n",
            "4/4 [==============================] - 0s 20ms/step - loss: 0.3514 - accuracy: 0.9407 - val_loss: 0.8940 - val_accuracy: 0.7857\n",
            "Epoch 33/50\n",
            "4/4 [==============================] - 0s 21ms/step - loss: 0.3293 - accuracy: 0.9153 - val_loss: 1.0057 - val_accuracy: 0.5714\n",
            "Epoch 34/50\n",
            "4/4 [==============================] - 0s 20ms/step - loss: 0.2449 - accuracy: 0.9492 - val_loss: 1.0022 - val_accuracy: 0.5714\n",
            "Epoch 35/50\n",
            "4/4 [==============================] - 0s 21ms/step - loss: 0.2260 - accuracy: 0.9661 - val_loss: 1.1513 - val_accuracy: 0.6429\n",
            "Epoch 36/50\n",
            "4/4 [==============================] - 0s 19ms/step - loss: 0.2150 - accuracy: 0.9576 - val_loss: 0.8363 - val_accuracy: 0.7857\n",
            "Epoch 37/50\n",
            "4/4 [==============================] - 0s 18ms/step - loss: 0.2023 - accuracy: 0.9576 - val_loss: 1.0350 - val_accuracy: 0.5714\n",
            "Epoch 38/50\n",
            "4/4 [==============================] - 0s 23ms/step - loss: 0.1646 - accuracy: 0.9746 - val_loss: 0.8764 - val_accuracy: 0.7857\n",
            "Epoch 39/50\n",
            "4/4 [==============================] - 0s 20ms/step - loss: 0.1738 - accuracy: 0.9576 - val_loss: 0.9109 - val_accuracy: 0.7857\n",
            "Epoch 40/50\n",
            "4/4 [==============================] - 0s 20ms/step - loss: 0.1453 - accuracy: 0.9831 - val_loss: 0.8029 - val_accuracy: 0.7143\n",
            "Epoch 41/50\n",
            "4/4 [==============================] - 0s 20ms/step - loss: 0.1494 - accuracy: 0.9746 - val_loss: 1.0745 - val_accuracy: 0.5714\n",
            "Epoch 42/50\n",
            "4/4 [==============================] - 0s 19ms/step - loss: 0.1343 - accuracy: 0.9746 - val_loss: 1.0465 - val_accuracy: 0.7143\n",
            "Epoch 43/50\n",
            "4/4 [==============================] - 0s 20ms/step - loss: 0.1466 - accuracy: 0.9492 - val_loss: 0.7742 - val_accuracy: 0.7143\n",
            "Epoch 44/50\n",
            "4/4 [==============================] - 0s 18ms/step - loss: 0.1959 - accuracy: 0.9576 - val_loss: 1.5450 - val_accuracy: 0.5000\n",
            "Epoch 45/50\n",
            "4/4 [==============================] - 0s 19ms/step - loss: 0.2399 - accuracy: 0.9153 - val_loss: 1.1044 - val_accuracy: 0.7857\n",
            "Epoch 46/50\n",
            "4/4 [==============================] - 0s 22ms/step - loss: 0.3121 - accuracy: 0.9153 - val_loss: 0.8675 - val_accuracy: 0.7143\n",
            "Epoch 47/50\n",
            "4/4 [==============================] - 0s 21ms/step - loss: 0.2456 - accuracy: 0.9153 - val_loss: 0.8512 - val_accuracy: 0.7857\n",
            "Epoch 48/50\n",
            "4/4 [==============================] - 0s 19ms/step - loss: 0.1874 - accuracy: 0.9407 - val_loss: 1.5909 - val_accuracy: 0.3571\n",
            "Epoch 49/50\n",
            "4/4 [==============================] - 0s 22ms/step - loss: 0.1741 - accuracy: 0.9407 - val_loss: 0.8705 - val_accuracy: 0.7143\n",
            "Epoch 50/50\n",
            "4/4 [==============================] - 0s 19ms/step - loss: 0.1364 - accuracy: 0.9576 - val_loss: 0.6162 - val_accuracy: 0.7857\n"
          ]
        }
      ]
    },
    {
      "cell_type": "code",
      "source": [
        "model.evaluate(X_train, y_train)"
      ],
      "metadata": {
        "colab": {
          "base_uri": "https://localhost:8080/"
        },
        "id": "aAq6YyDx_LVN",
        "outputId": "0774268e-36ad-423b-c5ca-1b0803f4f8c6"
      },
      "execution_count": 46,
      "outputs": [
        {
          "output_type": "stream",
          "name": "stdout",
          "text": [
            "5/5 [==============================] - 0s 6ms/step - loss: 0.1275 - accuracy: 0.9773\n"
          ]
        },
        {
          "output_type": "execute_result",
          "data": {
            "text/plain": [
              "[0.127458855509758, 0.9772727489471436]"
            ]
          },
          "metadata": {},
          "execution_count": 46
        }
      ]
    },
    {
      "cell_type": "code",
      "source": [
        "model.evaluate(X_test , y_test)"
      ],
      "metadata": {
        "colab": {
          "base_uri": "https://localhost:8080/"
        },
        "id": "Psi9j1ea_Rge",
        "outputId": "30294c96-f757-4011-98f6-2fd7856a0eb1"
      },
      "execution_count": 47,
      "outputs": [
        {
          "output_type": "stream",
          "name": "stdout",
          "text": [
            "2/2 [==============================] - 0s 16ms/step - loss: 1.6455 - accuracy: 0.5893\n"
          ]
        },
        {
          "output_type": "execute_result",
          "data": {
            "text/plain": [
              "[1.645520806312561, 0.5892857313156128]"
            ]
          },
          "metadata": {},
          "execution_count": 47
        }
      ]
    },
    {
      "cell_type": "markdown",
      "source": [
        "#Predictions"
      ],
      "metadata": {
        "id": "zKd0WOot_X_D"
      }
    },
    {
      "cell_type": "code",
      "source": [
        "y_pred = np.argmax(model.predict(X_test), axis=-1)"
      ],
      "metadata": {
        "id": "476v1fqu_ag2"
      },
      "execution_count": 51,
      "outputs": []
    },
    {
      "cell_type": "code",
      "source": [
        "y_pred"
      ],
      "metadata": {
        "colab": {
          "base_uri": "https://localhost:8080/"
        },
        "id": "A07l5vKQ_csd",
        "outputId": "2841bf1f-b97f-4cf3-bc92-c6e15e3d95af"
      },
      "execution_count": 52,
      "outputs": [
        {
          "output_type": "execute_result",
          "data": {
            "text/plain": [
              "array([4, 3, 3, 0, 2, 2, 3, 2, 4, 2, 1, 2, 0, 3, 1, 3, 3, 2, 3, 2, 0, 0,\n",
              "       4, 0, 3, 3, 2, 0, 1, 2, 0, 1, 3, 2, 0, 1, 2, 0, 1, 2, 1, 0, 0, 1,\n",
              "       2, 2, 3, 2, 3, 3, 3, 3, 3, 2, 3, 0])"
            ]
          },
          "metadata": {},
          "execution_count": 52
        }
      ]
    },
    {
      "cell_type": "code",
      "source": [
        "np.argmax(y_test, axis=1)"
      ],
      "metadata": {
        "colab": {
          "base_uri": "https://localhost:8080/"
        },
        "id": "dOC1AuI8_gc1",
        "outputId": "bc762cfe-e9f9-4c2b-93d9-06c0cd6078e9"
      },
      "execution_count": 53,
      "outputs": [
        {
          "output_type": "execute_result",
          "data": {
            "text/plain": [
              "array([4, 3, 2, 0, 2, 0, 0, 0, 4, 2, 1, 3, 3, 2, 1, 3, 3, 2, 3, 4, 0, 2,\n",
              "       4, 3, 3, 3, 3, 0, 2, 0, 0, 1, 3, 2, 0, 1, 2, 4, 4, 2, 2, 2, 0, 1,\n",
              "       2, 0, 2, 2, 2, 3, 3, 0, 3, 2, 2, 3])"
            ]
          },
          "metadata": {},
          "execution_count": 53
        }
      ]
    },
    {
      "cell_type": "code",
      "source": [
        "for t in range(len(test)):\n",
        "    print(test['Text'].iloc[t])\n",
        "    print(\"Prediction : \",  emoji.emojize(emoji_dict[str(y_pred[t])]) )\n",
        "    print(\"Actual : \", emoji.emojize(emoji_dict[str( test['Label'].iloc[t] )]) )\n",
        "    print()"
      ],
      "metadata": {
        "colab": {
          "base_uri": "https://localhost:8080/"
        },
        "id": "Lhc_yEd__5CN",
        "outputId": "fe9ee867-b10c-4d84-9245-b4771833d77f"
      },
      "execution_count": 54,
      "outputs": [
        {
          "output_type": "stream",
          "name": "stdout",
          "text": [
            "I want to eat\n",
            "Prediction :  🍴\n",
            "Actual :  🍴\n",
            "\n",
            "he did not answer\n",
            "Prediction :  😓\n",
            "Actual :  😓\n",
            "\n",
            "he got a raise\n",
            "Prediction :  😓\n",
            "Actual :  😁\n",
            "\n",
            "she got me a present\n",
            "Prediction :  ❤️\n",
            "Actual :  ❤️\n",
            "\n",
            "ha ha ha it was so funny\n",
            "Prediction :  😁\n",
            "Actual :  😁\n",
            "\n",
            "he is a good friend\n",
            "Prediction :  😁\n",
            "Actual :  ❤️\n",
            "\n",
            "I am upset\n",
            "Prediction :  😓\n",
            "Actual :  ❤️\n",
            "\n",
            "We had such a lovely dinner tonight\n",
            "Prediction :  😁\n",
            "Actual :  ❤️\n",
            "\n",
            "where is the food\n",
            "Prediction :  🍴\n",
            "Actual :  🍴\n",
            "\n",
            "Stop making this joke ha ha ha\n",
            "Prediction :  😁\n",
            "Actual :  😁\n",
            "\n",
            "where is the ball\n",
            "Prediction :  🏀\n",
            "Actual :  🏀\n",
            "\n",
            "work is hard\n",
            "Prediction :  😁\n",
            "Actual :  😓\n",
            "\n",
            "This girl is messing with me\n",
            "Prediction :  ❤️\n",
            "Actual :  😓\n",
            "\n",
            "are you serious ha ha\n",
            "Prediction :  😓\n",
            "Actual :  😁\n",
            "\n",
            "Let us go play baseball\n",
            "Prediction :  🏀\n",
            "Actual :  🏀\n",
            "\n",
            "This stupid grader is not working \n",
            "Prediction :  😓\n",
            "Actual :  😓\n",
            "\n",
            "work is horrible\n",
            "Prediction :  😓\n",
            "Actual :  😓\n",
            "\n",
            "Congratulation for having a baby\n",
            "Prediction :  😁\n",
            "Actual :  😁\n",
            "\n",
            "stop messing around\n",
            "Prediction :  😓\n",
            "Actual :  😓\n",
            "\n",
            "any suggestions for dinner\n",
            "Prediction :  😁\n",
            "Actual :  🍴\n",
            "\n",
            "I love taking breaks\n",
            "Prediction :  ❤️\n",
            "Actual :  ❤️\n",
            "\n",
            "you brighten my day\n",
            "Prediction :  ❤️\n",
            "Actual :  😁\n",
            "\n",
            "I boiled rice\n",
            "Prediction :  🍴\n",
            "Actual :  🍴\n",
            "\n",
            "she is a bully\n",
            "Prediction :  ❤️\n",
            "Actual :  😓\n",
            "\n",
            "Why are you feeling bad\n",
            "Prediction :  😓\n",
            "Actual :  😓\n",
            "\n",
            "I am upset\n",
            "Prediction :  😓\n",
            "Actual :  😓\n",
            "\n",
            "I worked during my birthday\n",
            "Prediction :  😁\n",
            "Actual :  😓\n",
            "\n",
            "My grandmother is the love of my life\n",
            "Prediction :  ❤️\n",
            "Actual :  ❤️\n",
            "\n",
            "enjoy your break\n",
            "Prediction :  🏀\n",
            "Actual :  😁\n",
            "\n",
            "valentine day is near\n",
            "Prediction :  😁\n",
            "Actual :  ❤️\n",
            "\n",
            "I miss you so much\n",
            "Prediction :  ❤️\n",
            "Actual :  ❤️\n",
            "\n",
            "throw the ball\n",
            "Prediction :  🏀\n",
            "Actual :  🏀\n",
            "\n",
            "My life is so boring\n",
            "Prediction :  😓\n",
            "Actual :  😓\n",
            "\n",
            "she said yes\n",
            "Prediction :  😁\n",
            "Actual :  😁\n",
            "\n",
            "will you be my valentine\n",
            "Prediction :  ❤️\n",
            "Actual :  ❤️\n",
            "\n",
            "he can pitch really well\n",
            "Prediction :  🏀\n",
            "Actual :  🏀\n",
            "\n",
            "dance with me\n",
            "Prediction :  😁\n",
            "Actual :  😁\n",
            "\n",
            "I am starving\n",
            "Prediction :  ❤️\n",
            "Actual :  🍴\n",
            "\n",
            "See you at the restaurant\n",
            "Prediction :  🏀\n",
            "Actual :  🍴\n",
            "\n",
            "I like to laugh\n",
            "Prediction :  😁\n",
            "Actual :  😁\n",
            "\n",
            "I will go danc\n",
            "Prediction :  🏀\n",
            "Actual :  😁\n",
            "\n",
            "I like your jacket \n",
            "Prediction :  ❤️\n",
            "Actual :  😁\n",
            "\n",
            "i miss her\n",
            "Prediction :  ❤️\n",
            "Actual :  ❤️\n",
            "\n",
            "what is your favorite baseball game\n",
            "Prediction :  🏀\n",
            "Actual :  🏀\n",
            "\n",
            "Good job\n",
            "Prediction :  😁\n",
            "Actual :  😁\n",
            "\n",
            "I love to the stars and back\n",
            "Prediction :  😁\n",
            "Actual :  ❤️\n",
            "\n",
            "What you did was awesome\n",
            "Prediction :  😓\n",
            "Actual :  😁\n",
            "\n",
            "ha ha ha lol\n",
            "Prediction :  😁\n",
            "Actual :  😁\n",
            "\n",
            "I want to joke\n",
            "Prediction :  😓\n",
            "Actual :  😁\n",
            "\n",
            "go away\n",
            "Prediction :  😓\n",
            "Actual :  😓\n",
            "\n",
            "yesterday we lost again\n",
            "Prediction :  😓\n",
            "Actual :  😓\n",
            "\n",
            "family is all I have\n",
            "Prediction :  😓\n",
            "Actual :  ❤️\n",
            "\n",
            "you are failing this exercise\n",
            "Prediction :  😓\n",
            "Actual :  😓\n",
            "\n",
            "Good joke\n",
            "Prediction :  😁\n",
            "Actual :  😁\n",
            "\n",
            "You totally deserve this prize\n",
            "Prediction :  😓\n",
            "Actual :  😁\n",
            "\n",
            "I did not have breakfast\n",
            "Prediction :  ❤️\n",
            "Actual :  😓\n",
            "\n"
          ]
        }
      ]
    },
    {
      "cell_type": "markdown",
      "source": [
        "#Prediction For Custom Text"
      ],
      "metadata": {
        "id": "YwUY4-e6__k0"
      }
    },
    {
      "cell_type": "code",
      "source": [
        "inp  = \"where is the ball\""
      ],
      "metadata": {
        "id": "UQcuOjxXAEcc"
      },
      "execution_count": 55,
      "outputs": []
    },
    {
      "cell_type": "code",
      "source": [
        "inp"
      ],
      "metadata": {
        "colab": {
          "base_uri": "https://localhost:8080/",
          "height": 35
        },
        "id": "5o2wHoD_ANi9",
        "outputId": "539830f6-aa9f-49d1-c17a-b213e30a4699"
      },
      "execution_count": 56,
      "outputs": [
        {
          "output_type": "execute_result",
          "data": {
            "application/vnd.google.colaboratory.intrinsic+json": {
              "type": "string"
            },
            "text/plain": [
              "'where is the ball'"
            ]
          },
          "metadata": {},
          "execution_count": 56
        }
      ]
    },
    {
      "cell_type": "code",
      "source": [
        "embedding_x_query = []"
      ],
      "metadata": {
        "id": "63ET98z6AQXt"
      },
      "execution_count": 57,
      "outputs": []
    },
    {
      "cell_type": "code",
      "source": [
        "for w in inp.lower().split():\n",
        "    print(w)\n",
        "    e = embedding_matrix[w]\n",
        "    embedding_x_query.append(e)"
      ],
      "metadata": {
        "colab": {
          "base_uri": "https://localhost:8080/"
        },
        "id": "pdOrJ5lWASqV",
        "outputId": "81b58969-201a-4aae-c756-c7ef7c88b451"
      },
      "execution_count": 58,
      "outputs": [
        {
          "output_type": "stream",
          "name": "stdout",
          "text": [
            "where\n",
            "is\n",
            "the\n",
            "ball\n"
          ]
        }
      ]
    },
    {
      "cell_type": "code",
      "source": [
        "embedding_x_query = np.array(embedding_x_query)"
      ],
      "metadata": {
        "id": "hGlr8PkUAVmF"
      },
      "execution_count": 59,
      "outputs": []
    },
    {
      "cell_type": "code",
      "source": [
        "embedding_x_query.shape"
      ],
      "metadata": {
        "colab": {
          "base_uri": "https://localhost:8080/"
        },
        "id": "4xfZurQDAYMM",
        "outputId": "710b92cf-afba-492d-d454-c073d54c2e1a"
      },
      "execution_count": 60,
      "outputs": [
        {
          "output_type": "execute_result",
          "data": {
            "text/plain": [
              "(4, 50)"
            ]
          },
          "metadata": {},
          "execution_count": 60
        }
      ]
    },
    {
      "cell_type": "code",
      "source": [
        "if embedding_x_query.shape[0] < 10:\n",
        "    embedding_x_query = np.vstack( (embedding_x_query, np.zeros((10 - len(embedding_x_query) , 50))  ) )"
      ],
      "metadata": {
        "id": "se-A2hcYAak9"
      },
      "execution_count": 61,
      "outputs": []
    },
    {
      "cell_type": "code",
      "source": [
        "embedding_x_query.shape"
      ],
      "metadata": {
        "colab": {
          "base_uri": "https://localhost:8080/"
        },
        "id": "Wk4k32HpAdc9",
        "outputId": "66243aaf-7c15-4388-ad8d-220f14f6db01"
      },
      "execution_count": 62,
      "outputs": [
        {
          "output_type": "execute_result",
          "data": {
            "text/plain": [
              "(10, 50)"
            ]
          },
          "metadata": {},
          "execution_count": 62
        }
      ]
    },
    {
      "cell_type": "code",
      "source": [
        "embedding_x_query = embedding_x_query.reshape(1, 10, 50)"
      ],
      "metadata": {
        "id": "LUHOnb6IAfo1"
      },
      "execution_count": 63,
      "outputs": []
    },
    {
      "cell_type": "code",
      "source": [
        "embedding_x_query.shape"
      ],
      "metadata": {
        "colab": {
          "base_uri": "https://localhost:8080/"
        },
        "id": "8kIKGl50AiZ9",
        "outputId": "c3506494-eaf9-4726-f236-e61a338abb06"
      },
      "execution_count": 64,
      "outputs": [
        {
          "output_type": "execute_result",
          "data": {
            "text/plain": [
              "(1, 10, 50)"
            ]
          },
          "metadata": {},
          "execution_count": 64
        }
      ]
    },
    {
      "cell_type": "code",
      "source": [
        "pred = np.argmax(model.predict(embedding_x_query), axis=-1)"
      ],
      "metadata": {
        "id": "PdjjhnkBAlb1"
      },
      "execution_count": 66,
      "outputs": []
    },
    {
      "cell_type": "code",
      "source": [
        "emoji.emojize( emoji_dict[ str(pred[0])] )"
      ],
      "metadata": {
        "colab": {
          "base_uri": "https://localhost:8080/",
          "height": 35
        },
        "id": "k7JZael_An6k",
        "outputId": "a243d438-f566-4475-8285-507c374b884d"
      },
      "execution_count": 67,
      "outputs": [
        {
          "output_type": "execute_result",
          "data": {
            "application/vnd.google.colaboratory.intrinsic+json": {
              "type": "string"
            },
            "text/plain": [
              "'🏀'"
            ]
          },
          "metadata": {},
          "execution_count": 67
        }
      ]
    },
    {
      "cell_type": "code",
      "source": [
        ""
      ],
      "metadata": {
        "id": "BqHuFnlOA_Vn"
      },
      "execution_count": null,
      "outputs": []
    }
  ]
}